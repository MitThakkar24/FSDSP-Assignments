{
 "cells": [
  {
   "cell_type": "markdown",
   "id": "0284cc52",
   "metadata": {},
   "source": [
    "#### 1. Given an array, check if it contains any duplicates or not.\n",
    "#### arr = [1, 2, 4, 2, 5, 9]\n",
    "#### Output = True\n",
    "\n",
    "\n"
   ]
  },
  {
   "cell_type": "code",
   "execution_count": 2,
   "id": "05366ed0",
   "metadata": {},
   "outputs": [
    {
     "name": "stdout",
     "output_type": "stream",
     "text": [
      "True\n",
      "False\n"
     ]
    }
   ],
   "source": [
    "#Time Complexity o(n^2)\n",
    "#Space Complexity o(1)\n",
    "\n",
    "arr = [1, 2, 4, 2, 5, 9]\n",
    "arr2 = [1, 4, 2, 5, 9]\n",
    "\n",
    "def contains_duplicate(arr):\n",
    "    for i in range(len(arr)):\n",
    "        for j in range(i+1, len(arr)):\n",
    "            if arr[i] == arr[j]:\n",
    "                return True\n",
    "    return False\n",
    "\n",
    "#Driver Code \n",
    "output = contains_duplicate(arr)\n",
    "output2 = contains_duplicate(arr2)\n",
    "\n",
    "print(output)\n",
    "print(output2)"
   ]
  },
  {
   "cell_type": "code",
   "execution_count": 3,
   "id": "d2e9d0c0",
   "metadata": {},
   "outputs": [
    {
     "name": "stdout",
     "output_type": "stream",
     "text": [
      "True\n"
     ]
    }
   ],
   "source": [
    "# Optimized Solution \n",
    "# Time Complexity o(n)\n",
    "# Space comlpexity 0(n)\n",
    "\n",
    "arr = [1, 2, 4, 2, 5, 9]\n",
    "\n",
    "def contains_duplicates(arr):\n",
    "    # Convert the array to a set to remove duplicates\n",
    "    unique_elements = set()\n",
    "    \n",
    "    for element in arr:\n",
    "        # If the element already exists in the set, it's a duplicate\n",
    "        if element in unique_elements:\n",
    "            return True\n",
    "        else:\n",
    "            unique_elements.add(element)\n",
    "    \n",
    "    return False\n",
    "\n",
    "# Check if the array contains any duplicates\n",
    "output = contains_duplicates(arr)\n",
    "print(output)  # Output: True\n"
   ]
  },
  {
   "cell_type": "markdown",
   "id": "73bee95f",
   "metadata": {},
   "source": [
    "#### 2. Given an array and an integer k, rotate the array to the right by k steps.\n",
    "#### arr = [1, 2, 3, 4, 5, 6, 7] k = 3\n",
    "#### Output = [5, 6, 7, 1, 2, 3, 4]"
   ]
  },
  {
   "cell_type": "code",
   "execution_count": 4,
   "id": "1c558256",
   "metadata": {},
   "outputs": [
    {
     "name": "stdout",
     "output_type": "stream",
     "text": [
      "[5, 6, 7, 1, 2, 3, 4]\n"
     ]
    }
   ],
   "source": [
    "arr = [1, 2, 3, 4, 5, 6, 7]\n",
    "k = 3\n",
    "\n",
    "def rotate_array (arr, k):\n",
    "    n = len(arr)\n",
    "    \n",
    "    k %=n\n",
    "    \n",
    "    arr[:] = arr[-k:] + arr[:-k]\n",
    "    \n",
    "rotate_array(arr,k)\n",
    "print(arr)"
   ]
  },
  {
   "cell_type": "markdown",
   "id": "dd067ab5",
   "metadata": {},
   "source": [
    "\n",
    "#### 3. Reverse the given array in-place, means without using any extra data structure.\n",
    "#### arr = [2, 4, 5, 7, 9, 12]\n",
    "#### Output = [12, 9, 7, 5, 4, 2]\n"
   ]
  },
  {
   "cell_type": "code",
   "execution_count": 5,
   "id": "c7a760e7",
   "metadata": {},
   "outputs": [
    {
     "name": "stdout",
     "output_type": "stream",
     "text": [
      "[12, 9, 7, 5, 4, 2]\n"
     ]
    }
   ],
   "source": [
    "arr = [2, 4, 5, 7, 9, 12]\n",
    "\n",
    "def reverse_array (arr):\n",
    "    start = 0 \n",
    "    end = len(arr) -1\n",
    "    \n",
    "    while start<end:\n",
    "        arr[start],arr[end] = arr[end],arr[start]\n",
    "        start += 1\n",
    "        end -= 1\n",
    "        \n",
    "reverse_array(arr)\n",
    "print(arr)"
   ]
  },
  {
   "cell_type": "markdown",
   "id": "3a1dd831",
   "metadata": {},
   "source": [
    "\n",
    "#### 4. Given an array of integers, find the maximum element in an array\n",
    "#### arr = [10, 5, 20, 8, 15]\n",
    "#### Output = 20\n"
   ]
  },
  {
   "cell_type": "code",
   "execution_count": 7,
   "id": "8c3577d0",
   "metadata": {},
   "outputs": [
    {
     "name": "stdout",
     "output_type": "stream",
     "text": [
      "20\n"
     ]
    }
   ],
   "source": [
    "arr = [10,5,20,8,15]\n",
    "\n",
    "def find_max(arr):\n",
    "    if not arr:\n",
    "        return None # Return none if array is empty\n",
    "    \n",
    "    \n",
    "    max_value = arr[0]\n",
    "    \n",
    "    \n",
    "    for num in arr[1:]:\n",
    "        if num > max_value:\n",
    "            max_value = num \n",
    "        \n",
    "    return max_value\n",
    "\n",
    "\n",
    "output = find_max(arr)\n",
    "print(output)"
   ]
  },
  {
   "cell_type": "markdown",
   "id": "13564569",
   "metadata": {},
   "source": [
    "\n",
    "#### 5. Given a sorted array, remove the duplicate element without using any extra data structure.\n",
    "#### arr = [1, 1, 2, 2, 2, 3, 3, 4, 4, 4, 5, 5]\n",
    "#### Output = [1, 2, 3, 4, 5]"
   ]
  },
  {
   "cell_type": "code",
   "execution_count": 22,
   "id": "a4ad05b6",
   "metadata": {},
   "outputs": [],
   "source": [
    "arr = [1, 1, 2, 2, 2, 3, 3, 4, 4, 4, 5, 5]\n",
    "\n",
    "def remove_dupes(arr):\n",
    "    i = 1\n",
    "    while i < len(arr):\n",
    "        if arr[i - 1] == arr[i]:\n",
    "            arr.pop(i)\n",
    "        else:\n",
    "            i += 1"
   ]
  },
  {
   "cell_type": "code",
   "execution_count": 23,
   "id": "b98c6f76",
   "metadata": {},
   "outputs": [
    {
     "name": "stdout",
     "output_type": "stream",
     "text": [
      "[1, 2, 3, 4, 5]\n"
     ]
    }
   ],
   "source": [
    "remove_dupes(arr)\n",
    "\n",
    "print(arr)"
   ]
  },
  {
   "cell_type": "code",
   "execution_count": null,
   "id": "887a8124",
   "metadata": {},
   "outputs": [],
   "source": []
  }
 ],
 "metadata": {
  "kernelspec": {
   "display_name": "Python 3 (ipykernel)",
   "language": "python",
   "name": "python3"
  },
  "language_info": {
   "codemirror_mode": {
    "name": "ipython",
    "version": 3
   },
   "file_extension": ".py",
   "mimetype": "text/x-python",
   "name": "python",
   "nbconvert_exporter": "python",
   "pygments_lexer": "ipython3",
   "version": "3.9.7"
  }
 },
 "nbformat": 4,
 "nbformat_minor": 5
}
