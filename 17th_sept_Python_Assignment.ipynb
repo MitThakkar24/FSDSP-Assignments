{
 "cells": [
  {
   "cell_type": "markdown",
   "id": "c7120893",
   "metadata": {},
   "source": [
    "# For Loop :-\n",
    "\n"
   ]
  },
  {
   "cell_type": "markdown",
   "id": "82424b90",
   "metadata": {},
   "source": [
    "#### 1 Write a Python program to print numbers from 1 to 10 using a for loop.\n"
   ]
  },
  {
   "cell_type": "code",
   "execution_count": 25,
   "id": "7f865faf",
   "metadata": {},
   "outputs": [
    {
     "name": "stdout",
     "output_type": "stream",
     "text": [
      "1\n",
      "2\n",
      "3\n",
      "4\n",
      "5\n",
      "6\n",
      "7\n",
      "8\n",
      "9\n",
      "10\n"
     ]
    }
   ],
   "source": [
    "for i in range(1,11):\n",
    "    print(i)"
   ]
  },
  {
   "cell_type": "markdown",
   "id": "3c00f94f",
   "metadata": {},
   "source": [
    "#### 2 Explain the difference between a for loop and a while loop in Python.\n"
   ]
  },
  {
   "cell_type": "raw",
   "id": "dac95136",
   "metadata": {},
   "source": [
    "in python for and while looops are used to control the flow of the program by executing a block of code repeatedly, but they have different structure and use cases\n",
    "\n",
    "1) Loop Structure\n",
    "-> for loop is used when we have a sequence of elements, such as a list, tuple, string or range and we want to iterate a fixed number of times, once for eac element in the sequence\n",
    "-> while loops is used when we want to repeat a block of code as long as a certain condition is true. the loops continues execute as long as the condition remains true\n",
    "\n",
    "2) Loop control\n",
    "->in for loop, we dont need to manage the loop control variable explicitly. python takes care of iterating through the sequence\n",
    "-> in w while loop we need to manage the loop control variable and make sure it eventually becomes false to exit the loops. this requires careful management of loop control variable to prevent infinite loops.\n",
    "\n",
    "3) use Cases:\n",
    "-> for loops when we know number of iterations in advance and want to iterate over a collection of item or a sequence of elements\n",
    "-> while loop when you dont know in advance how many iterations we need, and we want to repeat a block of code until a specific condition is met. for example, we can use while loop for user input validation or for implementing game loops."
   ]
  },
  {
   "cell_type": "markdown",
   "id": "718d7271",
   "metadata": {},
   "source": [
    "#### 3 Write a Python program to calculate the sum of all numbers from 1 to 100 using a for loop.\n"
   ]
  },
  {
   "cell_type": "code",
   "execution_count": 26,
   "id": "078f2ed3",
   "metadata": {},
   "outputs": [
    {
     "name": "stdout",
     "output_type": "stream",
     "text": [
      "5050\n"
     ]
    }
   ],
   "source": [
    "Number_Sum = 0\n",
    "for i in range(1,101):\n",
    "    Number_Sum += i\n",
    "print(Number_Sum)"
   ]
  },
  {
   "cell_type": "markdown",
   "id": "7d58bb3b",
   "metadata": {},
   "source": [
    "#### 4 How do you iterate through a list using a for loop in Python?\n"
   ]
  },
  {
   "cell_type": "raw",
   "id": "c29b97a7",
   "metadata": {},
   "source": [
    "-> there is iter function in python which makes list or object iterator if object is iterable\n",
    "-> for example list, tuple or dictionary\n",
    "\n",
    "-> here's how for loop uses the iter() function to iterate throug a list\n",
    "\n",
    "1) for loop takes and iterable such as a list as its target\n",
    "2) internally for loop uses iter() fucntion to obtain an iterator from the iterable\n",
    "3) it then uses the obtained iterator to fetch elements one by one until the iterator is exhausted\n",
    "\n",
    "here's example of how for loop iterates through a list without explicitly using iter()"
   ]
  },
  {
   "cell_type": "code",
   "execution_count": 33,
   "id": "85960485",
   "metadata": {},
   "outputs": [
    {
     "name": "stdout",
     "output_type": "stream",
     "text": [
      "1 2 3 4 5 "
     ]
    }
   ],
   "source": [
    "my_list = [1,2,3,4,5]\n",
    "\n",
    "for item in my_list:\n",
    "    print(item,end = ' ')"
   ]
  },
  {
   "cell_type": "raw",
   "id": "3a63492d",
   "metadata": {},
   "source": [
    "in this code, the for loop takes my_list as the iterable and Python autometically uses the iter() function to create an iterator my_list. it then iterates through the list, fetching and processing each element."
   ]
  },
  {
   "cell_type": "markdown",
   "id": "806da8fd",
   "metadata": {},
   "source": [
    "#### 5 Write a Python program to find the product of all elements in a list using a for loop.\n"
   ]
  },
  {
   "cell_type": "code",
   "execution_count": 4,
   "id": "f6420f1f",
   "metadata": {},
   "outputs": [
    {
     "name": "stdout",
     "output_type": "stream",
     "text": [
      "120\n"
     ]
    }
   ],
   "source": [
    "my_list = [1,2,3,4,5]\n",
    "\n",
    "Product = 1\n",
    "\n",
    "for item in my_list:\n",
    "    Product = Product*item\n",
    "    \n",
    "print(Product)"
   ]
  },
  {
   "cell_type": "markdown",
   "id": "bc355a63",
   "metadata": {},
   "source": [
    "#### 6 Create a Python program that prints all even numbers from 1 to 20 using a for loop.\n"
   ]
  },
  {
   "cell_type": "code",
   "execution_count": 7,
   "id": "4260094b",
   "metadata": {},
   "outputs": [
    {
     "name": "stdout",
     "output_type": "stream",
     "text": [
      "2 4 6 8 10 12 14 16 18 "
     ]
    }
   ],
   "source": [
    "for i in range(1,20):\n",
    "    if i%2 == 0:\n",
    "        print(i, end = ' ')"
   ]
  },
  {
   "cell_type": "markdown",
   "id": "09305c39",
   "metadata": {},
   "source": [
    "#### 7 Write a Python program that calculates the factorial of a number using a for loop.\n"
   ]
  },
  {
   "cell_type": "code",
   "execution_count": 8,
   "id": "32358385",
   "metadata": {},
   "outputs": [
    {
     "name": "stdout",
     "output_type": "stream",
     "text": [
      "120\n"
     ]
    }
   ],
   "source": [
    "Number = 5\n",
    "\n",
    "fact = 1\n",
    "\n",
    "for item in range(1,Number+1):\n",
    "    fact = fact*item\n",
    "    \n",
    "print(fact)"
   ]
  },
  {
   "cell_type": "markdown",
   "id": "1059046b",
   "metadata": {},
   "source": [
    "#### 8 How can you iterate through the characters of a string using a for loop in Python?\n"
   ]
  },
  {
   "cell_type": "raw",
   "id": "aaf5c3b8",
   "metadata": {},
   "source": [
    "To iterate through the charctrs of a string using for loop in python, you can treat the string as an iterable sequence, and the for loop will automatically iterate through each character,\n",
    "\n",
    "for example "
   ]
  },
  {
   "cell_type": "code",
   "execution_count": 10,
   "id": "4c638efe",
   "metadata": {},
   "outputs": [
    {
     "name": "stdout",
     "output_type": "stream",
     "text": [
      "H e l l o   w o r l d "
     ]
    }
   ],
   "source": [
    "my_string = 'Hello world'\n",
    "\n",
    "for char in my_string:\n",
    "    print(char, end = ' ')"
   ]
  },
  {
   "cell_type": "raw",
   "id": "858e42c9",
   "metadata": {},
   "source": [
    "in this example \n",
    "-> my_string is the string i want to iterate through \n",
    "-> char is a loop variable that makes on each charcter in the string in each iterator\n",
    "-> print(char) is the operation that i want to perform on each character, it print the character\n",
    "\n",
    "-> for loop will autometically handle the iteration, we don't need to use the iter() function explicitly when iterating through a string because strings aer iterable by default in Python"
   ]
  },
  {
   "cell_type": "markdown",
   "id": "d4429bb8",
   "metadata": {},
   "source": [
    "#### 9 Write a Python program to find the largest number in a list using a for loop.\n"
   ]
  },
  {
   "cell_type": "code",
   "execution_count": 11,
   "id": "fc245f73",
   "metadata": {},
   "outputs": [
    {
     "name": "stdout",
     "output_type": "stream",
     "text": [
      "68\n"
     ]
    }
   ],
   "source": [
    "my_list = [1,2,3,4,5,68,8]\n",
    "max_element = 0\n",
    "for i in my_list:\n",
    "    if i > max_element:\n",
    "        max_element = i\n",
    "print(max_element)"
   ]
  },
  {
   "cell_type": "markdown",
   "id": "32b7b190",
   "metadata": {},
   "source": [
    "#### 10 Create a Python program that prints the Fibonacci sequence up to a specified limit using a for loop.\n"
   ]
  },
  {
   "cell_type": "code",
   "execution_count": 13,
   "id": "2c7909eb",
   "metadata": {},
   "outputs": [
    {
     "name": "stdout",
     "output_type": "stream",
     "text": [
      "0 1 1 2 3 5 8 13 21 34 "
     ]
    }
   ],
   "source": [
    "def print_fibonacci(limit):\n",
    "    a, b = 0, 1\n",
    "    while a <= limit:\n",
    "        print(a, end=' ')\n",
    "        a, b = b, a + b\n",
    "\n",
    "\n",
    "print_fibonacci(50)\n"
   ]
  },
  {
   "cell_type": "markdown",
   "id": "88dc6cf2",
   "metadata": {},
   "source": [
    "#### 11 Write a Python program to count the number of vowels in a given string using a for loop."
   ]
  },
  {
   "cell_type": "code",
   "execution_count": 15,
   "id": "8e0f1643",
   "metadata": {},
   "outputs": [
    {
     "name": "stdout",
     "output_type": "stream",
     "text": [
      "3\n"
     ]
    }
   ],
   "source": [
    "my_string = 'Hello world'\n",
    "\n",
    "vowel_count = 0\n",
    "\n",
    "for i in my_string:\n",
    "    if i.lower() in ['a','e','i','o','u']:\n",
    "        vowel_count += 1\n",
    "print(vowel_count)"
   ]
  },
  {
   "cell_type": "markdown",
   "id": "bbe54111",
   "metadata": {},
   "source": [
    "#### 12 Create a Python program that generates a multiplication table for a given number using a for loop.\n"
   ]
  },
  {
   "cell_type": "code",
   "execution_count": 16,
   "id": "0ce666e0",
   "metadata": {},
   "outputs": [
    {
     "name": "stdout",
     "output_type": "stream",
     "text": [
      "10 * 1 = 10\n",
      "10 * 2 = 20\n",
      "10 * 3 = 30\n",
      "10 * 4 = 40\n",
      "10 * 5 = 50\n",
      "10 * 6 = 60\n",
      "10 * 7 = 70\n",
      "10 * 8 = 80\n",
      "10 * 9 = 90\n",
      "10 * 10 = 100\n"
     ]
    }
   ],
   "source": [
    "number = 10 \n",
    "\n",
    "for i in range(1,11):\n",
    "    print(f'{number} * {i} = {i*number}')"
   ]
  },
  {
   "cell_type": "markdown",
   "id": "ac769c67",
   "metadata": {},
   "source": [
    "#### 13 Write a Python program to reverse a list using a for loop.\n"
   ]
  },
  {
   "cell_type": "code",
   "execution_count": 22,
   "id": "932a711b",
   "metadata": {},
   "outputs": [
    {
     "name": "stdout",
     "output_type": "stream",
     "text": [
      "[10, 9, 8, 7, 6, 5, 4, 3, 2, 1]\n"
     ]
    }
   ],
   "source": [
    "my_list = [1,2,3,4,5,6,7,8,9,10]\n",
    "rev_list = []\n",
    "for i in range(len(my_list),0,-1):\n",
    "    rev_list.append(i)\n",
    "    \n",
    "print(rev_list)"
   ]
  },
  {
   "cell_type": "markdown",
   "id": "d2159749",
   "metadata": {},
   "source": [
    "#### 14 Write a Python program to find the common elements between two lists using a for loop.\n"
   ]
  },
  {
   "cell_type": "code",
   "execution_count": 1,
   "id": "9b3e47a7",
   "metadata": {},
   "outputs": [
    {
     "name": "stdout",
     "output_type": "stream",
     "text": [
      "[1, 5, 78, 8]\n"
     ]
    }
   ],
   "source": [
    "l1 = [1,2,3,4,5,6,78,8]\n",
    "l2 = [78,1,5,8,10,11,12]\n",
    "common = []\n",
    "for i in l1:\n",
    "    if i in l2:\n",
    "        common.append(i)\n",
    "\n",
    "print(common)"
   ]
  },
  {
   "cell_type": "markdown",
   "id": "610755d2",
   "metadata": {},
   "source": [
    "#### 15 Explain how to use a for loop to iterate through the keys and values of a dictionary in Python."
   ]
  },
  {
   "cell_type": "raw",
   "id": "ab9166ea",
   "metadata": {},
   "source": [
    "we can use a for loop to iterate through the keys and values of a dictionary and values of a dictionary in python by using item() method\n",
    "\n",
    "example:"
   ]
  },
  {
   "cell_type": "code",
   "execution_count": 2,
   "id": "43e7a1ce",
   "metadata": {},
   "outputs": [
    {
     "name": "stdout",
     "output_type": "stream",
     "text": [
      "Key: apple, Value: 3\n",
      "Key: banana, Value: 2\n",
      "Key: cherry, Value: 5\n"
     ]
    }
   ],
   "source": [
    "my_dict = {'apple': 3, 'banana': 2, 'cherry': 5}\n",
    "\n",
    "for key, value in my_dict.items():\n",
    "    print(f'Key: {key}, Value: {value}')\n"
   ]
  },
  {
   "cell_type": "raw",
   "id": "6140a3fd",
   "metadata": {},
   "source": [
    "in this example, my_dict is a dictionary with keys apple, banana and cherry and their corresponding value 3 2 and 5. the item method returns a view of the dictionary's item a pair of key value tuples.\n",
    "\n",
    "the for loop iterate through these key value pair, and in each iteration. it assigns the current key to the variable key and the current value to the variable value. we can then access and use these variables as needed within the loop ."
   ]
  },
  {
   "cell_type": "markdown",
   "id": "11353868",
   "metadata": {},
   "source": [
    "#### 16 Write a Python program to find the GCD (Greatest Common Divisor) of two numbers using a for loop.\n"
   ]
  },
  {
   "cell_type": "code",
   "execution_count": 3,
   "id": "c3222593",
   "metadata": {},
   "outputs": [
    {
     "name": "stdout",
     "output_type": "stream",
     "text": [
      "Enter the first number: 12\n",
      "Enter the second number: 13\n",
      "The GCD of 13 and 12 is 1\n"
     ]
    }
   ],
   "source": [
    "num1 = int(input(\"Enter the first number: \"))\n",
    "num2 = int(input(\"Enter the second number: \"))\n",
    "\n",
    "# Ensure num1 is greater than or equal to num2\n",
    "if num1 < num2:\n",
    "    num1, num2 = num2, num1\n",
    "\n",
    "# Initialize GCD to 1\n",
    "gcd = 1\n",
    "\n",
    "for i in range(1, num2 + 1):\n",
    "    if num1 % i == 0 and num2 % i == 0:\n",
    "        gcd = i\n",
    "\n",
    "print(f\"The GCD of {num1} and {num2} is {gcd}\")"
   ]
  },
  {
   "cell_type": "markdown",
   "id": "06d56449",
   "metadata": {},
   "source": [
    "#### 17 Create a Python program that checks if a string is a palindrome using a for loop.\n"
   ]
  },
  {
   "cell_type": "code",
   "execution_count": 16,
   "id": "ebe70771",
   "metadata": {},
   "outputs": [
    {
     "name": "stdout",
     "output_type": "stream",
     "text": [
      "String is palindrome\n"
     ]
    }
   ],
   "source": [
    "string = 'level '\n",
    "\n",
    "string = string.lower().strip()\n",
    "\n",
    "start = 0 \n",
    "end = len(string) -1\n",
    "\n",
    "flag = True\n",
    "\n",
    "while start<end:\n",
    "    if string[start] != string[end]:\n",
    "        flag = False\n",
    "    start+=1\n",
    "    end-=1\n",
    "    \n",
    "if flag:\n",
    "    print('String is palindrome')\n",
    "else:\n",
    "    print('String is not palindrome')"
   ]
  },
  {
   "cell_type": "markdown",
   "id": "8f9305ff",
   "metadata": {},
   "source": [
    "#### 18 Write a Python program to remove duplicates from a list using a for loop.\n"
   ]
  },
  {
   "cell_type": "code",
   "execution_count": 17,
   "id": "55085046",
   "metadata": {},
   "outputs": [
    {
     "name": "stdout",
     "output_type": "stream",
     "text": [
      "[1, 2, 3, 4, 5, 6]\n"
     ]
    }
   ],
   "source": [
    "l1 = [1,1,2,2,3,4,5,5,6]\n",
    "\n",
    "NoDupes = []\n",
    "\n",
    "for i in l1:\n",
    "    if i not in NoDupes:\n",
    "        NoDupes.append(i)\n",
    "        \n",
    "print(NoDupes)\n",
    "        "
   ]
  },
  {
   "cell_type": "markdown",
   "id": "b5257754",
   "metadata": {},
   "source": [
    "#### 19 Create a Python program that counts the number of words in a sentence using a for loop.\n"
   ]
  },
  {
   "cell_type": "code",
   "execution_count": 18,
   "id": "2f99278e",
   "metadata": {},
   "outputs": [
    {
     "name": "stdout",
     "output_type": "stream",
     "text": [
      "6\n"
     ]
    }
   ],
   "source": [
    "Sentence = 'Hello world welcome to python programming'\n",
    "\n",
    "WordCount = 1\n",
    "\n",
    "for i in Sentence:\n",
    "    if i == ' ':\n",
    "        WordCount += 1\n",
    "        \n",
    "print(WordCount)"
   ]
  },
  {
   "cell_type": "code",
   "execution_count": 21,
   "id": "49573f4b",
   "metadata": {},
   "outputs": [
    {
     "name": "stdout",
     "output_type": "stream",
     "text": [
      "6\n"
     ]
    }
   ],
   "source": [
    "Sentence = 'Hello world welcome to python programming'\n",
    "\n",
    "WordCount = 0\n",
    "\n",
    "SplitSentence = Sentence.split(' ')\n",
    "\n",
    "for i in SplitSentence:\n",
    "    WordCount += 1\n",
    "    \n",
    "print(WordCount)"
   ]
  },
  {
   "cell_type": "markdown",
   "id": "66eb3ede",
   "metadata": {},
   "source": [
    "#### 20 Write a Python program to find the sum of all odd numbers from 1 to 50 using a for loop.\n"
   ]
  },
  {
   "cell_type": "code",
   "execution_count": 23,
   "id": "ad373309",
   "metadata": {},
   "outputs": [
    {
     "name": "stdout",
     "output_type": "stream",
     "text": [
      "625\n"
     ]
    }
   ],
   "source": [
    "SumOdd = 0\n",
    "for i in range(1,51):\n",
    "    if i%2 == 1:\n",
    "        SumOdd += i\n",
    "print(SumOdd)"
   ]
  },
  {
   "cell_type": "markdown",
   "id": "1c416ad1",
   "metadata": {},
   "source": [
    "#### 21 Write a Python program that checks if a given year is a leap year using a for loop.\n"
   ]
  },
  {
   "cell_type": "code",
   "execution_count": 24,
   "id": "f5202b55",
   "metadata": {},
   "outputs": [
    {
     "name": "stdout",
     "output_type": "stream",
     "text": [
      "Enter the start year: 2000\n",
      "Enter the end year: 2024\n",
      "Leap years in the specified range are: [2000, 2004, 2008, 2012, 2016, 2020, 2024]\n"
     ]
    }
   ],
   "source": [
    "def is_leap_year(year):\n",
    "    if (year % 4 == 0 and year % 100 != 0) or (year % 400 == 0):\n",
    "        return True\n",
    "    else:\n",
    "        return False\n",
    "\n",
    "start_year = int(input(\"Enter the start year: \"))\n",
    "end_year = int(input(\"Enter the end year: \"))\n",
    "\n",
    "leap_years = []\n",
    "\n",
    "for year in range(start_year, end_year + 1):\n",
    "    if is_leap_year(year):\n",
    "        leap_years.append(year)\n",
    "\n",
    "if leap_years:\n",
    "    print(\"Leap years in the specified range are:\", leap_years)\n",
    "else:\n",
    "    print(\"No leap years in the specified range.\")"
   ]
  },
  {
   "cell_type": "markdown",
   "id": "91c204e1",
   "metadata": {},
   "source": [
    "#### 22 Create a Python program that calculates the square root of a number using a for loop.\n"
   ]
  },
  {
   "cell_type": "code",
   "execution_count": 26,
   "id": "770f872c",
   "metadata": {},
   "outputs": [
    {
     "name": "stdout",
     "output_type": "stream",
     "text": [
      "Enter a number: 144\n",
      "The square root of 144.0 is approximately 12.000000\n"
     ]
    }
   ],
   "source": [
    "def calculate_square_root(number, iterations=10):\n",
    "    guess = number / 2.0\n",
    "\n",
    "    for _ in range(iterations):\n",
    "        guess = 0.5 * (guess + (number / guess))\n",
    "\n",
    "    return guess\n",
    "\n",
    "number = float(input(\"Enter a number: \"))\n",
    "\n",
    "square_root = calculate_square_root(number)\n",
    "print(f\"The square root of {number} is approximately {square_root:.6f}\")\n"
   ]
  },
  {
   "cell_type": "markdown",
   "id": "57d39ee0",
   "metadata": {},
   "source": [
    "#### 23 Write a Python program to find the LCM (Least Common Multiple) of two numbers using a for loop."
   ]
  },
  {
   "cell_type": "code",
   "execution_count": 32,
   "id": "63d8555f",
   "metadata": {},
   "outputs": [
    {
     "name": "stdout",
     "output_type": "stream",
     "text": [
      "Enter the first number: 3\n",
      "Enter the second number: 6\n",
      "The LCM of 3 and 6 is 6\n"
     ]
    }
   ],
   "source": [
    "def gcd(a,b):\n",
    "    while b:\n",
    "        a,b = b,a%b\n",
    "    return a\n",
    "\n",
    "def lcm(a,b):\n",
    "    return (a*b)//gcd(a,b)\n",
    "\n",
    "num1 = int(input(\"Enter the first number: \"))\n",
    "num2 = int(input(\"Enter the second number: \"))\n",
    "\n",
    "lcm_result = lcm(num1, num2)\n",
    "print(f\"The LCM of {num1} and {num2} is {lcm_result}\")"
   ]
  },
  {
   "cell_type": "markdown",
   "id": "7e38f073",
   "metadata": {},
   "source": [
    "# If else :\n",
    "\n"
   ]
  },
  {
   "cell_type": "markdown",
   "id": "21d01617",
   "metadata": {},
   "source": [
    "#### 1 Write a Python program to check if a number is positive, negative, or zero using an if-else statement.\n"
   ]
  },
  {
   "cell_type": "code",
   "execution_count": 34,
   "id": "00b7e947",
   "metadata": {},
   "outputs": [
    {
     "name": "stdout",
     "output_type": "stream",
     "text": [
      "Number is Negative\n"
     ]
    }
   ],
   "source": [
    "number = -20\n",
    "\n",
    "if number < 0: \n",
    "    print('Number is Negative')\n",
    "else:\n",
    "    if number == 0:\n",
    "        print('Number is zero')\n",
    "    else:\n",
    "        print('Number is Positive')"
   ]
  },
  {
   "cell_type": "markdown",
   "id": "92583149",
   "metadata": {},
   "source": [
    "#### 2 Create a Python program that checks if a given number is even or odd using an if-else statement.\n"
   ]
  },
  {
   "cell_type": "code",
   "execution_count": 35,
   "id": "a89f3923",
   "metadata": {},
   "outputs": [
    {
     "name": "stdout",
     "output_type": "stream",
     "text": [
      "number is even\n"
     ]
    }
   ],
   "source": [
    "number = 10\n",
    "\n",
    "if number%2 == 0:\n",
    "    print('number is even')\n",
    "else:\n",
    "    print('Number is odd')"
   ]
  },
  {
   "cell_type": "markdown",
   "id": "33adefc9",
   "metadata": {},
   "source": [
    "#### 3 How can you use nested if-else statements in Python, and provide an example?\n"
   ]
  },
  {
   "cell_type": "raw",
   "id": "f28095d3",
   "metadata": {},
   "source": [
    "nested if else statement in python allows to have one if else statement inside another. this is useful when you need to evaluate multiple conditions in a hierachical or sequential manner. \n",
    "\n",
    "example:"
   ]
  },
  {
   "cell_type": "code",
   "execution_count": null,
   "id": "d71b4f28",
   "metadata": {},
   "outputs": [],
   "source": [
    "# Example: Checking the eligibility for a job position\n",
    "age = 30\n",
    "experience = 4\n",
    "\n",
    "if age >= 25:\n",
    "    if experience >= 2:\n",
    "        print(\"You are eligible for the job.\")\n",
    "    else:\n",
    "        print(\"You are not eligible because of insufficient experience.\")\n",
    "else:\n",
    "    print(\"You are not eligible due to age requirements.\")\n"
   ]
  },
  {
   "cell_type": "raw",
   "id": "ced0f944",
   "metadata": {},
   "source": [
    "in this example, the outer if statement checks the age requirement, and if the age is 25 or older, it enters the inner if else block. the inner block checks the experience requirement, and if the experience is 2 years or more, it prints \"you are religible for this job\". if experience is less then 2 years then it prints \"you are not eligible because of insufficient experience\". if age is less than 25, it directly prints \"you are not eligible due to age requirements\".\n",
    "\n",
    "nested if else statement allow you to make more complex decisions by evaluating multiple conditons in a structured manner, which can be very useful in programming when you have conditional logic that depends on various factors"
   ]
  },
  {
   "cell_type": "markdown",
   "id": "91cf1b62",
   "metadata": {},
   "source": [
    "#### 4 Write a Python program to determine the largest of three numbers using if-else.\n"
   ]
  },
  {
   "cell_type": "code",
   "execution_count": 36,
   "id": "90687809",
   "metadata": {},
   "outputs": [
    {
     "name": "stdout",
     "output_type": "stream",
     "text": [
      "B is greatest\n"
     ]
    }
   ],
   "source": [
    "a,b,c = 10,40,30\n",
    "\n",
    "if a>b and a>c:\n",
    "    print('A is greatest')\n",
    "else:\n",
    "    if b>a and b>c:\n",
    "        print('B is greatest')\n",
    "    else:\n",
    "        print('C is greatest')"
   ]
  },
  {
   "cell_type": "markdown",
   "id": "9eb7777a",
   "metadata": {},
   "source": [
    "#### 5 Write a Python program that calculates the absolute value of a number using if-else.\n"
   ]
  },
  {
   "cell_type": "code",
   "execution_count": 37,
   "id": "d159ecc0",
   "metadata": {},
   "outputs": [
    {
     "name": "stdout",
     "output_type": "stream",
     "text": [
      "20\n"
     ]
    }
   ],
   "source": [
    "number = -20\n",
    "if number < 0:\n",
    "    number = -number\n",
    "\n",
    "print(number)"
   ]
  },
  {
   "cell_type": "markdown",
   "id": "999c40cb",
   "metadata": {},
   "source": [
    "#### 6 Create a Python program that checks if a given character is a vowel or consonant using if-else.\n"
   ]
  },
  {
   "cell_type": "code",
   "execution_count": 38,
   "id": "aa685a57",
   "metadata": {},
   "outputs": [
    {
     "name": "stdout",
     "output_type": "stream",
     "text": [
      "Enter a character: a\n",
      "Vowel\n"
     ]
    }
   ],
   "source": [
    "# Input a character\n",
    "char = input(\"Enter a character: \")\n",
    "\n",
    "if char in \"aeiouAEIOU\":\n",
    "    print(\"Vowel\")\n",
    "else:\n",
    "    print(\"Consonant\")\n"
   ]
  },
  {
   "cell_type": "markdown",
   "id": "593c2392",
   "metadata": {},
   "source": [
    "#### 7 Write a Python program to determine if a user is eligible to vote based on their age using if-else.\n"
   ]
  },
  {
   "cell_type": "code",
   "execution_count": 39,
   "id": "888ee0f9",
   "metadata": {},
   "outputs": [
    {
     "name": "stdout",
     "output_type": "stream",
     "text": [
      "Person is not eligible\n"
     ]
    }
   ],
   "source": [
    "age = 21\n",
    "\n",
    "if age <20:\n",
    "    print('Person is Eligible')\n",
    "else:\n",
    "    print('Person is not eligible')"
   ]
  },
  {
   "cell_type": "markdown",
   "id": "ec9d393e",
   "metadata": {},
   "source": [
    "#### 8 Create a Python program that calculates the discount amount based on the purchase amount using if-else.\n"
   ]
  },
  {
   "cell_type": "code",
   "execution_count": 40,
   "id": "87c80289",
   "metadata": {},
   "outputs": [
    {
     "name": "stdout",
     "output_type": "stream",
     "text": [
      "Enter the purchase amount: 1000\n",
      "The discounted price is: 900.0\n"
     ]
    }
   ],
   "source": [
    "purchase_amount = float(input(\"Enter the purchase amount: \"))\n",
    "\n",
    "if purchase_amount >= 1000:\n",
    "    discount = 0.1  # 10% discount\n",
    "elif purchase_amount >= 500:\n",
    "    discount = 0.05  # 5% discount\n",
    "else:\n",
    "    discount = 0  # No discount\n",
    "\n",
    "discounted_price = purchase_amount - (purchase_amount * discount)\n",
    "\n",
    "print(f\"The discounted price is: {discounted_price}\")"
   ]
  },
  {
   "cell_type": "markdown",
   "id": "10184cc5",
   "metadata": {},
   "source": [
    "#### 9 Write a Python program to check if a number is within a specified range using if-else.\n"
   ]
  },
  {
   "cell_type": "code",
   "execution_count": 41,
   "id": "2c15505c",
   "metadata": {},
   "outputs": [
    {
     "name": "stdout",
     "output_type": "stream",
     "text": [
      "100 is between 50 to 200\n"
     ]
    }
   ],
   "source": [
    "a = 100\n",
    "\n",
    "if 50 <= a <= 200:\n",
    "    print(a, 'is between 50 to 200')\n",
    "else:\n",
    "    print(a,'is not between 50 to 200')"
   ]
  },
  {
   "cell_type": "markdown",
   "id": "a765b98b",
   "metadata": {},
   "source": [
    "#### 10 Create a Python program that determines the grade of a student based on their score using if-else.\n"
   ]
  },
  {
   "cell_type": "code",
   "execution_count": 42,
   "id": "c821d4fb",
   "metadata": {},
   "outputs": [
    {
     "name": "stdout",
     "output_type": "stream",
     "text": [
      "The student's grade is: B\n"
     ]
    }
   ],
   "source": [
    "score = 80\n",
    "\n",
    "if score >= 90:\n",
    "    grade = 'A'\n",
    "else:\n",
    "    if score >= 80:\n",
    "        grade = 'B'\n",
    "    else:\n",
    "        if score >= 70:\n",
    "            grade = 'C'\n",
    "        else:\n",
    "            if score >= 60:\n",
    "                grade = 'D'\n",
    "            else:\n",
    "                grade = 'F'\n",
    "\n",
    "print(f\"The student's grade is: {grade}\")"
   ]
  },
  {
   "cell_type": "markdown",
   "id": "09c42d27",
   "metadata": {},
   "source": [
    "#### 11 Write a Python program to check if a string is empty or not using if-else.\n"
   ]
  },
  {
   "cell_type": "code",
   "execution_count": 45,
   "id": "0643f59b",
   "metadata": {},
   "outputs": [
    {
     "name": "stdout",
     "output_type": "stream",
     "text": [
      "String is empty\n"
     ]
    }
   ],
   "source": [
    "string = ''\n",
    "\n",
    "if len(string) == 0:\n",
    "    print('String is empty')\n",
    "else:\n",
    "    print('String is not empty')"
   ]
  },
  {
   "cell_type": "markdown",
   "id": "c26b38fd",
   "metadata": {},
   "source": [
    "#### 12 Create a Python program that identifies the type of a triangle (e.g., equilateral, isosceles, or scalene) based on input values using if-else.\n"
   ]
  },
  {
   "cell_type": "code",
   "execution_count": 46,
   "id": "4c1b0364",
   "metadata": {},
   "outputs": [
    {
     "name": "stdout",
     "output_type": "stream",
     "text": [
      "The triangle is Isosceles.\n"
     ]
    }
   ],
   "source": [
    "a,b,c = 1,1,2\n",
    "\n",
    "# Determine the type of triangle\n",
    "if a == b == c:\n",
    "    triangle_type = \"Equilateral\"\n",
    "else:\n",
    "    if a == b or a == c or b == c:\n",
    "        triangle_type = \"Isosceles\"\n",
    "    else:\n",
    "        triangle_type = \"Scalene\"\n",
    "\n",
    "\n",
    "print(f\"The triangle is {triangle_type}.\")"
   ]
  },
  {
   "cell_type": "markdown",
   "id": "8cee1b83",
   "metadata": {},
   "source": [
    "#### 13 Write a Python program to determine the day of the week based on a user-provided number using if-else.\n"
   ]
  },
  {
   "cell_type": "code",
   "execution_count": 47,
   "id": "b4e12deb",
   "metadata": {},
   "outputs": [
    {
     "name": "stdout",
     "output_type": "stream",
     "text": [
      "Enter a number (1 for Monday, 2 for Tuesday, etc.): 2\n",
      "The day of the week is: Tuesday\n"
     ]
    }
   ],
   "source": [
    "day_number = int(input(\"Enter a number (1 for Monday, 2 for Tuesday, etc.): \"))\n",
    "\n",
    "if day_number == 1:\n",
    "    day = \"Monday\"\n",
    "elif day_number == 2:\n",
    "    day = \"Tuesday\"\n",
    "elif day_number == 3:\n",
    "    day = \"Wednesday\"\n",
    "elif day_number == 4:\n",
    "    day = \"Thursday\"\n",
    "elif day_number == 5:\n",
    "    day = \"Friday\"\n",
    "elif day_number == 6:\n",
    "    day = \"Saturday\"\n",
    "elif day_number == 7:\n",
    "    day = \"Sunday\"\n",
    "else:\n",
    "    day = \"Invalid input\"\n",
    "\n",
    "print(f\"The day of the week is: {day}\")"
   ]
  },
  {
   "cell_type": "markdown",
   "id": "d3550a33",
   "metadata": {},
   "source": [
    "#### 14 Create a Python program that checks if a given year is a leap year using both if-else and a function.\n"
   ]
  },
  {
   "cell_type": "code",
   "execution_count": 52,
   "id": "df9f9f1b",
   "metadata": {},
   "outputs": [
    {
     "name": "stdout",
     "output_type": "stream",
     "text": [
      "Its a Leap Year\n"
     ]
    }
   ],
   "source": [
    "def LeapYear(Year):\n",
    "\n",
    "    if (year%4 ==0 and year%100 != 0) or (year%400 == 0):\n",
    "        print('Its a Leap Year')\n",
    "    else:\n",
    "        print('its not leap year')\n",
    "        \n",
    "        \n",
    "LeapYear(2024)"
   ]
  },
  {
   "cell_type": "markdown",
   "id": "c355289d",
   "metadata": {},
   "source": [
    "#### 15 How do you use the \"assert\" statement in Python to add debugging checks within if-else blocks?\n"
   ]
  },
  {
   "cell_type": "raw",
   "id": "a7b7d287",
   "metadata": {},
   "source": [
    "-> the 'assert' statement in Python is used to add debugging checks whithin your code to test if a condition holds true. if condition specidied in the assert statement is false, it will raise an 'AssertionError' exception.\n",
    "\n",
    "you can use assert to include sanity cehcks and ensure that  your code behaves an expected during development and debugging.\n",
    "\n",
    "its often used to catch logical errors or unexpected conditions early in the develoment process.\n",
    "\n",
    "\n",
    "example"
   ]
  },
  {
   "cell_type": "code",
   "execution_count": 53,
   "id": "3b8de77b",
   "metadata": {},
   "outputs": [
    {
     "ename": "AssertionError",
     "evalue": "Division by zero is not allowed",
     "output_type": "error",
     "traceback": [
      "\u001b[1;31m---------------------------------------------------------------------------\u001b[0m",
      "\u001b[1;31mAssertionError\u001b[0m                            Traceback (most recent call last)",
      "\u001b[1;32m~\\AppData\\Local\\Temp/ipykernel_6856/3394543445.py\u001b[0m in \u001b[0;36m<module>\u001b[1;34m\u001b[0m\n\u001b[0;32m      6\u001b[0m \u001b[0mdenominator\u001b[0m \u001b[1;33m=\u001b[0m \u001b[1;36m0\u001b[0m\u001b[1;33m\u001b[0m\u001b[1;33m\u001b[0m\u001b[0m\n\u001b[0;32m      7\u001b[0m \u001b[1;33m\u001b[0m\u001b[0m\n\u001b[1;32m----> 8\u001b[1;33m \u001b[0mresult\u001b[0m \u001b[1;33m=\u001b[0m \u001b[0mdivide\u001b[0m\u001b[1;33m(\u001b[0m\u001b[0mnumerator\u001b[0m\u001b[1;33m,\u001b[0m \u001b[0mdenominator\u001b[0m\u001b[1;33m)\u001b[0m\u001b[1;33m\u001b[0m\u001b[1;33m\u001b[0m\u001b[0m\n\u001b[0m\u001b[0;32m      9\u001b[0m \u001b[0mprint\u001b[0m\u001b[1;33m(\u001b[0m\u001b[1;34mf\"The result of the division is {result}\"\u001b[0m\u001b[1;33m)\u001b[0m\u001b[1;33m\u001b[0m\u001b[1;33m\u001b[0m\u001b[0m\n",
      "\u001b[1;32m~\\AppData\\Local\\Temp/ipykernel_6856/3394543445.py\u001b[0m in \u001b[0;36mdivide\u001b[1;34m(a, b)\u001b[0m\n\u001b[0;32m      1\u001b[0m \u001b[1;32mdef\u001b[0m \u001b[0mdivide\u001b[0m\u001b[1;33m(\u001b[0m\u001b[0ma\u001b[0m\u001b[1;33m,\u001b[0m \u001b[0mb\u001b[0m\u001b[1;33m)\u001b[0m\u001b[1;33m:\u001b[0m\u001b[1;33m\u001b[0m\u001b[1;33m\u001b[0m\u001b[0m\n\u001b[1;32m----> 2\u001b[1;33m     \u001b[1;32massert\u001b[0m \u001b[0mb\u001b[0m \u001b[1;33m!=\u001b[0m \u001b[1;36m0\u001b[0m\u001b[1;33m,\u001b[0m \u001b[1;34m\"Division by zero is not allowed\"\u001b[0m\u001b[1;33m\u001b[0m\u001b[1;33m\u001b[0m\u001b[0m\n\u001b[0m\u001b[0;32m      3\u001b[0m     \u001b[1;32mreturn\u001b[0m \u001b[0ma\u001b[0m \u001b[1;33m/\u001b[0m \u001b[0mb\u001b[0m\u001b[1;33m\u001b[0m\u001b[1;33m\u001b[0m\u001b[0m\n\u001b[0;32m      4\u001b[0m \u001b[1;33m\u001b[0m\u001b[0m\n\u001b[0;32m      5\u001b[0m \u001b[0mnumerator\u001b[0m \u001b[1;33m=\u001b[0m \u001b[1;36m10\u001b[0m\u001b[1;33m\u001b[0m\u001b[1;33m\u001b[0m\u001b[0m\n",
      "\u001b[1;31mAssertionError\u001b[0m: Division by zero is not allowed"
     ]
    }
   ],
   "source": [
    "def divide(a, b):\n",
    "    assert b != 0, \"Division by zero is not allowed\"\n",
    "    return a / b\n",
    "\n",
    "numerator = 10\n",
    "denominator = 0\n",
    "\n",
    "result = divide(numerator, denominator)\n",
    "print(f\"The result of the division is {result}\")\n"
   ]
  },
  {
   "cell_type": "raw",
   "id": "67203a7d",
   "metadata": {},
   "source": [
    "in this example the assert statement checks whether the denominator is not zero before performing the division.\n",
    "if the denominator is zero, then it raises an AssertionError with the specified message. this helps catch a potential division by zero error early in the development process."
   ]
  },
  {
   "cell_type": "markdown",
   "id": "1d8b04b5",
   "metadata": {},
   "source": [
    "#### 16 Create a Python program that determines the eligibility of a person for a senior citizen discount based on age using if-else.\n",
    "\n"
   ]
  },
  {
   "cell_type": "code",
   "execution_count": 54,
   "id": "7abf8c32",
   "metadata": {},
   "outputs": [
    {
     "name": "stdout",
     "output_type": "stream",
     "text": [
      "Enter your age: 12\n",
      "Sorry, you are not eligible for a senior citizen discount.\n"
     ]
    }
   ],
   "source": [
    "age = int(input(\"Enter your age: \"))\n",
    "\n",
    "# Check eligibility for a senior citizen discount\n",
    "if age >= 60:\n",
    "    print(\"Congratulations! You are eligible for a senior citizen discount.\")\n",
    "else:\n",
    "    print(\"Sorry, you are not eligible for a senior citizen discount.\")\n"
   ]
  },
  {
   "cell_type": "markdown",
   "id": "93353649",
   "metadata": {},
   "source": [
    "#### 17 Write a Python program to categorize a given character as uppercase, lowercase, or neither using if-else.\n"
   ]
  },
  {
   "cell_type": "code",
   "execution_count": 55,
   "id": "b7dd91f8",
   "metadata": {},
   "outputs": [
    {
     "name": "stdout",
     "output_type": "stream",
     "text": [
      "Enter a character: ?\n",
      "'?' is neither uppercase nor lowercase.\n"
     ]
    }
   ],
   "source": [
    "char = input(\"Enter a character: \")\n",
    "\n",
    "# Check and categorize the character\n",
    "if char.islower():\n",
    "    print(f\"'{char}' is a lowercase character.\")\n",
    "elif char.isupper():\n",
    "    print(f\"'{char}' is an uppercase character.\")\n",
    "else:\n",
    "    print(f\"'{char}' is neither uppercase nor lowercase.\")\n"
   ]
  },
  {
   "cell_type": "markdown",
   "id": "9d713166",
   "metadata": {},
   "source": [
    "#### 18 Write a Python program to determine the roots of a quadratic equation using if-else.\n"
   ]
  },
  {
   "cell_type": "code",
   "execution_count": 56,
   "id": "9db067f7",
   "metadata": {},
   "outputs": [
    {
     "name": "stdout",
     "output_type": "stream",
     "text": [
      "Enter the coefficient 'a': 12\n",
      "Enter the coefficient 'b': 13\n",
      "Enter the coefficient 'c': 14\n",
      "The roots are complex: (-0.5416666666666666+0.9344858955002419j) and (-0.5416666666666666-0.9344858955002419j)\n"
     ]
    }
   ],
   "source": [
    "# Input the coefficients of the quadratic equation\n",
    "a = float(input(\"Enter the coefficient 'a': \"))\n",
    "b = float(input(\"Enter the coefficient 'b': \"))\n",
    "c = float(input(\"Enter the coefficient 'c': \"))\n",
    "\n",
    "discriminant = b**2 - 4*a*c\n",
    "\n",
    "if discriminant > 0:\n",
    "    root1 = (-b + (discriminant ** 0.5)) / (2 * a)\n",
    "    root2 = (-b - (discriminant ** 0.5)) / (2 * a)\n",
    "    print(f\"The roots are real and distinct: {root1} and {root2}\")\n",
    "else:\n",
    "    if discriminant == 0:\n",
    "        root = -b / (2 * a)\n",
    "        print(f\"The root is a repeated (real) root: {root}\")\n",
    "    else:\n",
    "        real_part = -b / (2 * a)\n",
    "        imaginary_part = ((-discriminant) ** 0.5) / (2 * a)\n",
    "        root1 = complex(real_part, imaginary_part)\n",
    "        root2 = complex(real_part, -imaginary_part)\n",
    "        print(f\"The roots are complex: {root1} and {root2}\")"
   ]
  },
  {
   "cell_type": "markdown",
   "id": "cc520b7d",
   "metadata": {},
   "source": [
    "#### 19 Create a Python program that checks if a given year is a century year or not using if-else.\n"
   ]
  },
  {
   "cell_type": "code",
   "execution_count": 58,
   "id": "7edd0c11",
   "metadata": {},
   "outputs": [
    {
     "name": "stdout",
     "output_type": "stream",
     "text": [
      "Enter a year: 100\n",
      "It not a century year\n"
     ]
    }
   ],
   "source": [
    "year = int(input(\"Enter a year: \"))\n",
    "\n",
    "if i%100 == 0:\n",
    "    print('Its a Century Year')\n",
    "else:\n",
    "    print('It not a century year')"
   ]
  },
  {
   "cell_type": "markdown",
   "id": "3da5d566",
   "metadata": {},
   "source": [
    "#### 20 Write a Python program to determine if a given number is a perfect square using if-else.\n"
   ]
  },
  {
   "cell_type": "code",
   "execution_count": 60,
   "id": "7a927ffc",
   "metadata": {},
   "outputs": [
    {
     "name": "stdout",
     "output_type": "stream",
     "text": [
      "Enter a number: 144\n",
      "144 is a perfect square.\n"
     ]
    }
   ],
   "source": [
    "number = int(input(\"Enter a number: \"))\n",
    "\n",
    "# Check if the number is a perfect square\n",
    "if number < 0:\n",
    "    print(\"The number is not a perfect square because it's negative.\")\n",
    "else:\n",
    "    square_root = int(number**0.5)  # Calculate the integer square root\n",
    "    if square_root * square_root == number:\n",
    "        print(f\"{number} is a perfect square.\")\n",
    "    else:\n",
    "        print(f\"{number} is not a perfect square.\")\n"
   ]
  },
  {
   "cell_type": "markdown",
   "id": "59409529",
   "metadata": {},
   "source": [
    "#### 21 Explain the purpose of the \"continue\" and \"break\" statements within if-else loops.\n"
   ]
  },
  {
   "cell_type": "raw",
   "id": "d485df40",
   "metadata": {},
   "source": [
    "In python, continue and break statement are used within loops, including if-else loops, to control the flow of the loop and make code more efficient and flexible\n",
    "\n",
    "*) Continue Statement: the continue statement is used to skip the rest of the current iteration of a loop and processed to the next iteration\n",
    "-> it is often used when you want to bypass a specific part  of the loop code for a perticular condition without exiting the entire loop\n",
    "-> the continue statement is commonly used in loops when you want to skip specific values or items within iterable\n",
    "\n",
    "*) Break Statement: the break statement is used to terminate the loop prematurely even if the loop's condition or iteration are not complete\n",
    "-> it is used when a specific condition is met, you want to exit loop immediately\n",
    "-> the break statement is often used to search specific item or value within a loop and stop the search once the item is found"
   ]
  },
  {
   "cell_type": "markdown",
   "id": "bcca571f",
   "metadata": {},
   "source": [
    "#### 22 Create a Python program that calculates the BMI (Body Mass Index) of a person based on their weight and height using if-else.\n"
   ]
  },
  {
   "cell_type": "code",
   "execution_count": 61,
   "id": "4e61f9a5",
   "metadata": {},
   "outputs": [
    {
     "name": "stdout",
     "output_type": "stream",
     "text": [
      "Enter the person's weight (kg): 50\n",
      "Enter the person's height (m): 180\n",
      "The person's BMI category is: Underweight\n"
     ]
    }
   ],
   "source": [
    "weight = float(input(\"Enter the person's weight (kg): \"))\n",
    "height = float(input(\"Enter the person's height (m): \"))\n",
    "\n",
    "bmi = weight / (height ** 2)\n",
    "\n",
    "# Categorize BMI\n",
    "if bmi < 18.5:\n",
    "    category = \"Underweight\"\n",
    "elif 18.5 <= bmi < 24.9:\n",
    "    category = \"Normal Weight\"\n",
    "elif 25 <= bmi < 29.9:\n",
    "    category = \"Overweight\"\n",
    "else:\n",
    "    category = \"Obese\"\n",
    "\n",
    "print(f\"The person's BMI category is: {category}\")"
   ]
  },
  {
   "cell_type": "markdown",
   "id": "b0dd848c",
   "metadata": {},
   "source": [
    "#### 23 How can you use the \"filter()\" function with if-else statements to filter elements from a list?\n"
   ]
  },
  {
   "cell_type": "markdown",
   "id": "0db45e9e",
   "metadata": {},
   "source": [
    "the filter function in Python is used to filter element from an iterable based on a given function.\n",
    "it is commonly used in combination with lambda function or regular function to create a new iterable contining the filtered elements\n",
    "\n"
   ]
  },
  {
   "cell_type": "code",
   "execution_count": 63,
   "id": "0de2dc77",
   "metadata": {},
   "outputs": [
    {
     "name": "stdout",
     "output_type": "stream",
     "text": [
      "[2, 4, 6, 8]\n"
     ]
    }
   ],
   "source": [
    "def is_even_or_odd(x):\n",
    "    if x % 2 == 0:\n",
    "        return True  # Keep even numbers\n",
    "    else:\n",
    "        return False  # Discard odd numbers\n",
    "\n",
    "numbers = [1, 2, 3, 4, 5, 6, 7, 8, 9]\n",
    "\n",
    "# Use the 'is_even_or_odd' function with filter to filter even numbers\n",
    "filtered_numbers = list(filter(is_even_or_odd, numbers))\n",
    "\n",
    "print(filtered_numbers)\n",
    "\n"
   ]
  },
  {
   "cell_type": "raw",
   "id": "b200e128",
   "metadata": {},
   "source": [
    "in this example, the is even or odd function checks if a number is even using and if else statement if the number is even it returns true otherwise it returrns false\n",
    "\n",
    "filter() uses this function to create a new iterable containing the even numbers from the original list.\n",
    "\n",
    "so, even though, if else statement are used within the custom function, the filter() function works with the function.\n",
    "\n",
    "the filter function works with the function's true and false return value to filter the list elements\n",
    "\n",
    "the result is a list of even number based on the if-else condition within the custom function"
   ]
  },
  {
   "cell_type": "markdown",
   "id": "926548c9",
   "metadata": {},
   "source": [
    "#### 24 Write a Python program to determine if a given number is prime or not using if-else."
   ]
  },
  {
   "cell_type": "code",
   "execution_count": 65,
   "id": "f8eec08f",
   "metadata": {},
   "outputs": [
    {
     "name": "stdout",
     "output_type": "stream",
     "text": [
      "Enter a number: 13\n",
      "13 is a prime number.\n"
     ]
    }
   ],
   "source": [
    "num = int(input(\"Enter a number: \"))\n",
    "\n",
    "if num > 1:\n",
    "    is_prime = True  \n",
    "    for i in range(2, num):\n",
    "        if num % i == 0:\n",
    "            is_prime = False\n",
    "            break\n",
    "    if is_prime:\n",
    "        print(f\"{num} is a prime number.\")\n",
    "    else:\n",
    "        print(f\"{num} is not a prime number.\")\n",
    "else:\n",
    "    print(f\"{num} is not a prime number.\")"
   ]
  },
  {
   "cell_type": "markdown",
   "id": "ca595f33",
   "metadata": {},
   "source": [
    "# Map :-\n",
    "\n",
    "\n"
   ]
  },
  {
   "cell_type": "markdown",
   "id": "a31c014b",
   "metadata": {},
   "source": [
    "#### 1 Explain the purpose of the `map()` function in Python and provide an example of how it can be used to apply a function to each element of an iterable.\n"
   ]
  },
  {
   "cell_type": "raw",
   "id": "cb5fcf3e",
   "metadata": {},
   "source": [
    "-> The map() function in python is used to apply a specified function to each item in an iterable and return iterator that yields the result of applying that function to each element\n",
    "\n",
    "-> it essentially allows you t perform the same operation on every item in the iterable without having to write explicit loops\n",
    "\n",
    "-> the map() function is commonly used when you want to transform a collection of data, such as applying a mathematical operation, a conversion or any custom function to every element in the iterable"
   ]
  },
  {
   "cell_type": "code",
   "execution_count": 1,
   "id": "8e76b3b0",
   "metadata": {},
   "outputs": [
    {
     "name": "stdout",
     "output_type": "stream",
     "text": [
      "[1, 4, 9, 16, 25]\n"
     ]
    }
   ],
   "source": [
    "def square(x):\n",
    "    return x ** 2\n",
    "\n",
    "numbers = [1, 2, 3, 4, 5]\n",
    "\n",
    "squared_numbers = map(square, numbers)\n",
    "\n",
    "squared_numbers_list = list(squared_numbers)\n",
    "\n",
    "print(squared_numbers_list)\n"
   ]
  },
  {
   "cell_type": "raw",
   "id": "c23cf0c3",
   "metadata": {},
   "source": [
    "-> in this example we first deine a square() function that takes a number and returns in square.\n",
    "\n",
    "-> then, we create a list of numbers variable. we use the map() function to apply the square() function to each element in the number.\n",
    "\n",
    "-> The reuslt is an iterator containing the squared values. to see the squared numbers, we convert the iterator to list using list() and then print the result"
   ]
  },
  {
   "cell_type": "markdown",
   "id": "2a2050ae",
   "metadata": {},
   "source": [
    "#### 2 Write a Python program that uses the `map()` function to square each element of a list of numbers.\n"
   ]
  },
  {
   "cell_type": "code",
   "execution_count": 2,
   "id": "7bb92008",
   "metadata": {},
   "outputs": [
    {
     "name": "stdout",
     "output_type": "stream",
     "text": [
      "[1, 4, 9, 16, 25]\n"
     ]
    }
   ],
   "source": [
    "def square(x):\n",
    "    return x ** 2\n",
    "\n",
    "numbers = [1, 2, 3, 4, 5]\n",
    "\n",
    "squared_numbers = map(square, numbers)\n",
    "\n",
    "squared_numbers_list = list(squared_numbers)\n",
    "\n",
    "print(squared_numbers_list)\n",
    "\n"
   ]
  },
  {
   "cell_type": "markdown",
   "id": "6b52b083",
   "metadata": {},
   "source": [
    "#### 3 How does the `map()` function differ from a list comprehension in Python, and when would you choose one over the other?\n"
   ]
  },
  {
   "cell_type": "raw",
   "id": "ed215574",
   "metadata": {},
   "source": [
    "-> map() is a built-in function that applies a given function to each element of an iterable and returns an iterator.\n",
    "\n",
    "-> list comprehensions are more concise and Pythonic way to create new list by applying an expression to each element of an iterable\n",
    "\n",
    "-> use list comprehensions for simple and readable transformation \n",
    "\n",
    "-> use map() when you need an iterator or for more complex transformations.\n",
    "\n",
    "-> List comprehension is faster than map when we need to evaluate expression that are too long or complicated to express\n",
    "\n",
    "-> map is faster in case of calling an already defined function."
   ]
  },
  {
   "cell_type": "markdown",
   "id": "721ba511",
   "metadata": {},
   "source": [
    "#### 4 Create a Python program that uses the `map()` function to convert a list of names to uppercase.\n"
   ]
  },
  {
   "cell_type": "code",
   "execution_count": 5,
   "id": "80eb6b56",
   "metadata": {},
   "outputs": [
    {
     "name": "stdout",
     "output_type": "stream",
     "text": [
      "['HELLO', 'WORLD', 'WELCOME', 'TO', 'PYTHON', 'PROGRAMMING']\n"
     ]
    }
   ],
   "source": [
    "WordList = ['hello','World','Welcome','To','Python','Programming']\n",
    "\n",
    "UpperWordList = map(lambda i: i.upper(),WordList)\n",
    "\n",
    "\n",
    "print(list(UpperWordList))"
   ]
  },
  {
   "cell_type": "markdown",
   "id": "567cee6c",
   "metadata": {},
   "source": [
    "#### 5 Write a Python program that uses the `map()` function to calculate the length of each word in a list of strings.\n"
   ]
  },
  {
   "cell_type": "code",
   "execution_count": 8,
   "id": "ea798656",
   "metadata": {},
   "outputs": [
    {
     "name": "stdout",
     "output_type": "stream",
     "text": [
      "[5, 5, 7, 2, 6, 11]\n"
     ]
    }
   ],
   "source": [
    "WordList = ['hello','World','Welcome','To','Python','Programming']\n",
    "\n",
    "LengthList = map(lambda i: len(i),WordList)\n",
    "\n",
    "\n",
    "print(list(LengthList))"
   ]
  },
  {
   "cell_type": "markdown",
   "id": "0ad7457b",
   "metadata": {},
   "source": [
    "#### 6 How can you use the `map()` function to apply a custom function to elements of multiple lists simultaneously in Python?\n"
   ]
  },
  {
   "cell_type": "code",
   "execution_count": null,
   "id": "72dd0aec",
   "metadata": {},
   "outputs": [],
   "source": [
    "def add_elements(x, y):\n",
    "    return x + y\n",
    "\n",
    "# Two lists\n",
    "list1 = [1, 2, 3, 4]\n",
    "list2 = [10, 20, 30, 40]\n",
    "\n",
    "result = list(map(add_elements, list1, list2))\n",
    "\n",
    "# Print the result\n",
    "print(result)\n"
   ]
  },
  {
   "cell_type": "raw",
   "id": "0bdac851",
   "metadata": {},
   "source": [
    "-> in this example add_elements() function takes two args x and y and returns their sum. \n",
    "we pass list1 and lis2 as additional arguements to map() and it applies the add elements function element-wise to corresponding element of both list."
   ]
  },
  {
   "cell_type": "markdown",
   "id": "83e7f9bc",
   "metadata": {},
   "source": [
    "#### 7 Create a Python program that uses `map()` to convert a list of temperatures from Celsius to Fahrenheit.\n"
   ]
  },
  {
   "cell_type": "code",
   "execution_count": 9,
   "id": "9b2de0bc",
   "metadata": {},
   "outputs": [
    {
     "name": "stdout",
     "output_type": "stream",
     "text": [
      "Celsius Temperatures: [0, 10, 20, 30, 40]\n",
      "Fahrenheit Temperatures: [32.0, 50.0, 68.0, 86.0, 104.0]\n"
     ]
    }
   ],
   "source": [
    "def celsius_to_fahrenheit(celsius_temp):\n",
    "    fahrenheit_temp = (celsius_temp * 9/5) + 32\n",
    "    return fahrenheit_temp\n",
    "\n",
    "celsius_temperatures = [0, 10, 20, 30, 40]\n",
    "\n",
    "fahrenheit_temperatures = list(map(celsius_to_fahrenheit, celsius_temperatures))\n",
    "\n",
    "print(\"Celsius Temperatures:\", celsius_temperatures)\n",
    "print(\"Fahrenheit Temperatures:\", fahrenheit_temperatures)\n"
   ]
  },
  {
   "cell_type": "markdown",
   "id": "bab82494",
   "metadata": {},
   "source": [
    "#### 8 Write a Python program that uses the `map()` function to round each element of a list of floating-point numbers to the nearest integer.\n"
   ]
  },
  {
   "cell_type": "code",
   "execution_count": 11,
   "id": "4620de58",
   "metadata": {},
   "outputs": [
    {
     "name": "stdout",
     "output_type": "stream",
     "text": [
      "Original Float Numbers: [3.14, 2.718, 1.414, 4.669, 5.555]\n",
      "Rounded Numbers: [3, 3, 1, 5, 6]\n"
     ]
    }
   ],
   "source": [
    "float_numbers = [3.14, 2.718, 1.414, 4.669, 5.555]\n",
    "\n",
    "rounded_numbers = list(map(round, float_numbers))\n",
    "\n",
    "print(\"Original Float Numbers:\", float_numbers)\n",
    "print(\"Rounded Numbers:\", rounded_numbers)\n"
   ]
  },
  {
   "cell_type": "markdown",
   "id": "e7ff270c",
   "metadata": {},
   "source": [
    "# Reduce :-"
   ]
  },
  {
   "cell_type": "markdown",
   "id": "a0973a07",
   "metadata": {},
   "source": [
    "#### 1 What is the `reduce()` function in Python, and what module should you import to use it? Provide an example of its basic usage.\n"
   ]
  },
  {
   "cell_type": "raw",
   "id": "70ad1548",
   "metadata": {},
   "source": [
    "-> the reduce() function in Python is a built in function used to apply a specified function cumulatively to the list of an iterable from left to right, in a way that the function reduces the iterable to a single value\n",
    "\n",
    "-> it is part of the functtools module so you need to import this module to use reduce() function \n",
    "\n",
    "example"
   ]
  },
  {
   "cell_type": "code",
   "execution_count": 12,
   "id": "036620d4",
   "metadata": {},
   "outputs": [
    {
     "name": "stdout",
     "output_type": "stream",
     "text": [
      "Result: 15\n"
     ]
    }
   ],
   "source": [
    "from functools import reduce\n",
    "\n",
    "def custom_function(x, y):\n",
    "    return x + y\n",
    "\n",
    "values = [1, 2, 3, 4, 5]\n",
    "\n",
    "result = reduce(custom_function, values)\n",
    "\n",
    "# Print the result\n",
    "print(\"Result:\", result)\n"
   ]
  },
  {
   "cell_type": "markdown",
   "id": "70f88f7c",
   "metadata": {},
   "source": [
    "#### 2 Write a Python program that uses the `reduce()` function to find the product of all elements in a list.\n"
   ]
  },
  {
   "cell_type": "code",
   "execution_count": 14,
   "id": "c2399089",
   "metadata": {},
   "outputs": [
    {
     "name": "stdout",
     "output_type": "stream",
     "text": [
      "120\n"
     ]
    }
   ],
   "source": [
    "from functools import reduce\n",
    "\n",
    "values = [1, 2, 3, 4, 5]\n",
    "\n",
    "x = reduce(lambda a,b:a*b,values)\n",
    "\n",
    "print(x)"
   ]
  },
  {
   "cell_type": "markdown",
   "id": "64849f08",
   "metadata": {},
   "source": [
    "#### 3 Create a Python program that uses `reduce()` to find the maximum element in a list of numbers.\n"
   ]
  },
  {
   "cell_type": "code",
   "execution_count": 16,
   "id": "6cdc06ac",
   "metadata": {},
   "outputs": [
    {
     "name": "stdout",
     "output_type": "stream",
     "text": [
      "6\n"
     ]
    }
   ],
   "source": [
    "from functools import reduce\n",
    "\n",
    "l = [1,2,3,4,5,6]\n",
    "\n",
    "min1 = reduce(lambda a,b:a if a>b else b,l)\n",
    "\n",
    "print(min1)"
   ]
  },
  {
   "cell_type": "markdown",
   "id": "7d112e81",
   "metadata": {},
   "source": [
    "#### 4 How can you use the `reduce()` function to concatenate a list of strings into a single string?\n"
   ]
  },
  {
   "cell_type": "code",
   "execution_count": 17,
   "id": "d5f61154",
   "metadata": {},
   "outputs": [
    {
     "name": "stdout",
     "output_type": "stream",
     "text": [
      "Concatenated String: Hello, world, how are you?\n"
     ]
    }
   ],
   "source": [
    "from functools import reduce\n",
    "\n",
    "def concatenate_strings(str1, str2):\n",
    "    return str1 + str2\n",
    "\n",
    "strings = [\"Hello, \", \"world, \", \"how \", \"are \", \"you?\"]\n",
    "\n",
    "result = reduce(concatenate_strings, strings)\n",
    "\n",
    "print(\"Concatenated String:\", result)\n"
   ]
  },
  {
   "cell_type": "raw",
   "id": "a92f2a5e",
   "metadata": {},
   "source": [
    "Here we have Listof string and we defined new function called concatenate string to concatente string.\n",
    "and we use the reduce() function to apply concatenate strigs cumulatively to the list of strings. the result will be a single string that is concatenation of all the strings in the list"
   ]
  },
  {
   "cell_type": "markdown",
   "id": "6d2cf625",
   "metadata": {},
   "source": [
    "#### 5 Write a Python program that calculates the factorial of a number using the `reduce()` function.\n"
   ]
  },
  {
   "cell_type": "code",
   "execution_count": 20,
   "id": "e8682374",
   "metadata": {},
   "outputs": [
    {
     "name": "stdout",
     "output_type": "stream",
     "text": [
      "120\n"
     ]
    }
   ],
   "source": [
    "from functools import reduce\n",
    "\n",
    "n = 5\n",
    "\n",
    "x = reduce(lambda a,b:a*b,range(1,n+1))\n",
    "\n",
    "print(x)"
   ]
  },
  {
   "cell_type": "markdown",
   "id": "87d6fe10",
   "metadata": {},
   "source": [
    "#### 6 Create a Python program that uses `reduce()` to find the GCD (Greatest Common Divisor) of a list of numbers.\n"
   ]
  },
  {
   "cell_type": "code",
   "execution_count": 21,
   "id": "32caaa58",
   "metadata": {},
   "outputs": [
    {
     "name": "stdout",
     "output_type": "stream",
     "text": [
      "GCD of the Numbers: 6\n"
     ]
    }
   ],
   "source": [
    "from functools import reduce\n",
    "import math\n",
    "\n",
    "def find_gcd(x, y):\n",
    "    return math.gcd(x, y)\n",
    "\n",
    "numbers = [12, 18, 24, 30, 36]\n",
    "\n",
    "result = reduce(find_gcd, numbers)\n",
    "\n",
    "# Print the result\n",
    "print(\"GCD of the Numbers:\", result)\n"
   ]
  },
  {
   "cell_type": "markdown",
   "id": "31a3c2b1",
   "metadata": {},
   "source": [
    "#### 7 Write a Python program that uses the `reduce()` function to find the sum of the digits of a given number.\n"
   ]
  },
  {
   "cell_type": "code",
   "execution_count": 23,
   "id": "079834e7",
   "metadata": {},
   "outputs": [
    {
     "name": "stdout",
     "output_type": "stream",
     "text": [
      "15\n"
     ]
    }
   ],
   "source": [
    "from functools import reduce\n",
    "\n",
    "def sum_numbers(x,y):\n",
    "    return int(x)+int(y)\n",
    "\n",
    "n = 12345\n",
    "\n",
    "strofNum = str(n)\n",
    "\n",
    "SumOfDigits = reduce(sum_numbers,strofNum)\n",
    "\n",
    "print(SumOfDigits)"
   ]
  },
  {
   "cell_type": "markdown",
   "id": "d1ff8482",
   "metadata": {},
   "source": [
    "# Filter :-"
   ]
  },
  {
   "cell_type": "markdown",
   "id": "7e3d8e90",
   "metadata": {},
   "source": [
    "#### 1 Explain the purpose of the `filter()` function in Python and provide an example of how it can be used to filter elements from an iterable.\n"
   ]
  },
  {
   "cell_type": "raw",
   "id": "8eed753c",
   "metadata": {},
   "source": [
    "-> filter() function in Python is used to filter elements from an iterable based on specified condition, provided as a function\n",
    "\n",
    "-> it returns an iterator that yields only the element for which the condition evaluate to true.\n",
    "\n",
    "-> in other words, it helps you to create a new iterable containing a subset of the element from the original iterable that satisfy the filtering criteria\n",
    "\n",
    "\n",
    "example "
   ]
  },
  {
   "cell_type": "code",
   "execution_count": 24,
   "id": "68609385",
   "metadata": {},
   "outputs": [
    {
     "data": {
      "text/plain": [
       "[2, 4, 2, 6, 8, 34]"
      ]
     },
     "execution_count": 24,
     "metadata": {},
     "output_type": "execute_result"
    }
   ],
   "source": [
    "l = [1,2,4,5,2,45,6,7,8,34,3,43]\n",
    "\n",
    "# Filter Odd Number from list\n",
    "\n",
    "list(filter(lambda a: a%2 == 0, l))"
   ]
  },
  {
   "cell_type": "raw",
   "id": "007a5c8d",
   "metadata": {},
   "source": [
    "in this example we have used filter to filter out even numbers from the list."
   ]
  },
  {
   "cell_type": "markdown",
   "id": "1184630f",
   "metadata": {},
   "source": [
    "#### 2 Write a Python program that uses the `filter()` function to select even numbers from a list of integers.\n"
   ]
  },
  {
   "cell_type": "code",
   "execution_count": 25,
   "id": "54164e02",
   "metadata": {},
   "outputs": [
    {
     "data": {
      "text/plain": [
       "[2, 4, 2, 6, 8, 34]"
      ]
     },
     "execution_count": 25,
     "metadata": {},
     "output_type": "execute_result"
    }
   ],
   "source": [
    "l = [1,2,4,5,2,45,6,7,8,34,3,43]\n",
    "\n",
    "# Filter Odd Number from list\n",
    "\n",
    "list(filter(lambda a: a%2 == 0, l))"
   ]
  },
  {
   "cell_type": "markdown",
   "id": "287295dc",
   "metadata": {},
   "source": [
    "#### 3 Create a Python program that uses the `filter()` function to select names that start with a specific letter from a list of strings.\n"
   ]
  },
  {
   "cell_type": "code",
   "execution_count": 27,
   "id": "465cd073",
   "metadata": {},
   "outputs": [
    {
     "data": {
      "text/plain": [
       "['mit']"
      ]
     },
     "execution_count": 27,
     "metadata": {},
     "output_type": "execute_result"
    }
   ],
   "source": [
    "l = ['thakkar','mit','rajeshbhai']\n",
    "\n",
    "list(filter(lambda a: a.startswith('m'),l))"
   ]
  },
  {
   "cell_type": "markdown",
   "id": "dc87ca5d",
   "metadata": {},
   "source": [
    "#### 4 Write a Python program that uses the `filter()` function to select prime numbers from a list of integers.\n"
   ]
  },
  {
   "cell_type": "code",
   "execution_count": 28,
   "id": "4cd82874",
   "metadata": {},
   "outputs": [
    {
     "name": "stdout",
     "output_type": "stream",
     "text": [
      "Prime Numbers: [2, 3, 5, 7, 11, 13, 17, 19, 23]\n"
     ]
    }
   ],
   "source": [
    "# Custom function to check if a number is prime\n",
    "def is_prime(num):\n",
    "    if num <= 1:\n",
    "        return False\n",
    "    if num <= 3:\n",
    "        return True\n",
    "\n",
    "    if num % 2 == 0 or num % 3 == 0:\n",
    "        return False\n",
    "\n",
    "    i = 5\n",
    "    while i * i <= num:\n",
    "        if num % i == 0 or num % (i + 2) == 0:\n",
    "            return False\n",
    "        i += 6\n",
    "\n",
    "    return True\n",
    "\n",
    "# List of integers\n",
    "numbers = [2, 3, 5, 7, 11, 12, 13, 14, 17, 19, 23]\n",
    "\n",
    "# Use filter to select prime numbers from the list\n",
    "prime_numbers = filter(is_prime, numbers)\n",
    "\n",
    "# Convert the result to a list (or iterate over it)\n",
    "prime_numbers_list = list(prime_numbers)\n",
    "\n",
    "# Print the selected prime numbers\n",
    "print(\"Prime Numbers:\", prime_numbers_list)\n"
   ]
  },
  {
   "cell_type": "markdown",
   "id": "55cc1d9e",
   "metadata": {},
   "source": [
    "#### 5 How can you use the `filter()` function to remove None values from a list in Python?\n"
   ]
  },
  {
   "cell_type": "code",
   "execution_count": 29,
   "id": "ce883213",
   "metadata": {},
   "outputs": [
    {
     "name": "stdout",
     "output_type": "stream",
     "text": [
      "Filtered List: [1, 2, 3, 4, 5]\n"
     ]
    }
   ],
   "source": [
    "# Custom function to filter out None values\n",
    "def remove_none(x):\n",
    "    return x is not None\n",
    "\n",
    "# List with None values\n",
    "my_list = [1, None, 2, None, 3, 4, None, 5]\n",
    "\n",
    "# Use filter to remove None values from the list\n",
    "filtered_list = list(filter(remove_none, my_list))\n",
    "\n",
    "# Print the filtered list\n",
    "print(\"Filtered List:\", filtered_list)\n"
   ]
  },
  {
   "cell_type": "markdown",
   "id": "47c0ca5a",
   "metadata": {},
   "source": [
    "#### 6 Create a Python program that uses `filter()` to select words longer than a certain length from a list of strings.\n"
   ]
  },
  {
   "cell_type": "code",
   "execution_count": 30,
   "id": "3fe9961d",
   "metadata": {},
   "outputs": [
    {
     "data": {
      "text/plain": [
       "['thakkar', 'rajeshbhai']"
      ]
     },
     "execution_count": 30,
     "metadata": {},
     "output_type": "execute_result"
    }
   ],
   "source": [
    "# Filter only those data where length of that is greater than 4\n",
    "l = ['']\n",
    "\n",
    "list(filter(lambda a: len(a)>4,l))"
   ]
  },
  {
   "cell_type": "markdown",
   "id": "845ba6f9",
   "metadata": {},
   "source": [
    "#### 7 Write a Python program that uses the `filter()` function to select elements greater than a specified threshold from a list of values."
   ]
  },
  {
   "cell_type": "code",
   "execution_count": 32,
   "id": "3951bb55",
   "metadata": {},
   "outputs": [
    {
     "data": {
      "text/plain": [
       "['hello', 'World', 'Welcome', 'Python', 'Programming']"
      ]
     },
     "execution_count": 32,
     "metadata": {},
     "output_type": "execute_result"
    }
   ],
   "source": [
    "l = ['hello','World','Welcome','To','Python','Programming']\n",
    "\n",
    "\n",
    "list(filter(lambda a: len(a)>4,l))"
   ]
  },
  {
   "cell_type": "markdown",
   "id": "5f5296bc",
   "metadata": {},
   "source": [
    "# Recursion:-\n",
    "\n"
   ]
  },
  {
   "cell_type": "markdown",
   "id": "3990ae47",
   "metadata": {},
   "source": [
    "#### 1 Explain the concept of recursion in Python. How does it differ from iteration?"
   ]
  },
  {
   "cell_type": "raw",
   "id": "5cdfa49b",
   "metadata": {},
   "source": [
    "-> Recursion is a programming concept where a function calls itself to solve a problem. \n",
    "\n",
    "-> the key idea behind recusion is to divide a complex problem into simpler, similar subproblems and solve each subproblem using the same algorithm.\n",
    "\n",
    "-> this process continues until a base case is reached, which is a condition that allows the recusion to stop\n",
    "\n",
    "-> in essence, recusion involves solving a problem by solving smaller instances of the same problem until the problem because trivial to solve\n",
    "\n",
    "\n",
    "-> whereas, iteration is a repetitive execution of a set of statement using loops without need for a function to call itself."
   ]
  },
  {
   "cell_type": "markdown",
   "id": "16efd7f9",
   "metadata": {},
   "source": [
    "#### 2 Write a Python program to calculate the factorial of a number using recursion.\n"
   ]
  },
  {
   "cell_type": "code",
   "execution_count": 37,
   "id": "32ff306b",
   "metadata": {},
   "outputs": [
    {
     "data": {
      "text/plain": [
       "120"
      ]
     },
     "execution_count": 37,
     "metadata": {},
     "output_type": "execute_result"
    }
   ],
   "source": [
    "def Fact(n):\n",
    "    if n <=1:\n",
    "        return 1\n",
    "    else:\n",
    "        return n * Fact(n-1)\n",
    "\n",
    "    \n",
    "Fact(5)"
   ]
  },
  {
   "cell_type": "markdown",
   "id": "22b5f93a",
   "metadata": {},
   "source": [
    "#### 3 Create a recursive Python function to find the nth Fibonacci number.\n"
   ]
  },
  {
   "cell_type": "code",
   "execution_count": 34,
   "id": "085705bb",
   "metadata": {},
   "outputs": [
    {
     "data": {
      "text/plain": [
       "8"
      ]
     },
     "execution_count": 34,
     "metadata": {},
     "output_type": "execute_result"
    }
   ],
   "source": [
    "def gen_fib(n):\n",
    "    if n <=1:\n",
    "        return n\n",
    "    else:\n",
    "        return gen_fib(n-1) + gen_fib(n-2)\n",
    "    \n",
    "gen_fib(6)"
   ]
  },
  {
   "cell_type": "markdown",
   "id": "e9de6454",
   "metadata": {},
   "source": [
    "#### 4 Write a recursive Python function to calculate the sum of all elements in a list.\n"
   ]
  },
  {
   "cell_type": "code",
   "execution_count": 42,
   "id": "c44d146e",
   "metadata": {},
   "outputs": [
    {
     "data": {
      "text/plain": [
       "6"
      ]
     },
     "execution_count": 42,
     "metadata": {},
     "output_type": "execute_result"
    }
   ],
   "source": [
    "numbers = [2, 3, 5, 7, 11, 12, 13, 14, 17, 19, 23]\n",
    "\n",
    "def gen_sum(l):\n",
    "    if len(l) == 0:\n",
    "        return 0\n",
    "    \n",
    "    return l[0]+gen_sum(l[1:])\n",
    "\n",
    "gen_sum(numbers)"
   ]
  },
  {
   "cell_type": "markdown",
   "id": "647f7628",
   "metadata": {},
   "source": [
    "#### 5 How can you prevent a recursive function from running indefinitely, causing a stack overflow error?\n"
   ]
  },
  {
   "cell_type": "raw",
   "id": "fcd8e931",
   "metadata": {},
   "source": [
    "-> Preventing a recursive function from running idefinitely and causing stack overflow error involves seting up proper termination\n",
    "\n",
    "-> Also known as base cases, ensuring that the recursion converges toward these base cases. \n",
    "\n",
    "1) Define Base Cases\n",
    "2) Ensure Progress Towards base cases"
   ]
  },
  {
   "cell_type": "markdown",
   "id": "182c5dbf",
   "metadata": {},
   "source": [
    "#### 6 Create a recursive Python function to find the greatest common divisor (GCD) of two numbers using the Euclidean algorithm.\n"
   ]
  },
  {
   "cell_type": "code",
   "execution_count": 43,
   "id": "8c4ca52c",
   "metadata": {},
   "outputs": [
    {
     "name": "stdout",
     "output_type": "stream",
     "text": [
      "GCD of 48 and 18 is 6\n"
     ]
    }
   ],
   "source": [
    "def euclidean_gcd(a, b):\n",
    "    # Base case: If b is 0, the GCD is a\n",
    "    if b == 0:\n",
    "        return a\n",
    "    # Recursive case: Compute GCD using Euclidean algorithm\n",
    "    return euclidean_gcd(b, a % b)\n",
    "\n",
    "# Test the function\n",
    "num1 = 48\n",
    "num2 = 18\n",
    "gcd = euclidean_gcd(num1, num2)\n",
    "print(f\"GCD of {num1} and {num2} is {gcd}\")\n"
   ]
  },
  {
   "cell_type": "markdown",
   "id": "c1ec5709",
   "metadata": {},
   "source": [
    "#### 7 Write a recursive Python function to reverse a string.\n"
   ]
  },
  {
   "cell_type": "code",
   "execution_count": 44,
   "id": "01559e7e",
   "metadata": {},
   "outputs": [
    {
     "name": "stdout",
     "output_type": "stream",
     "text": [
      "Original String: hello\n",
      "Reversed String: olleh\n"
     ]
    }
   ],
   "source": [
    "def reverse_string(input_str):\n",
    "    # Base case: If the string is empty or has only one character, return itself\n",
    "    if len(input_str) <= 1:\n",
    "        return input_str\n",
    "    # Recursive case: Reverse the string excluding the first and last characters\n",
    "    return input_str[-1] + reverse_string(input_str[1:-1]) + input_str[0]\n",
    "\n",
    "# Test the function\n",
    "original_str = \"hello\"\n",
    "reversed_str = reverse_string(original_str)\n",
    "print(f\"Original String: {original_str}\")\n",
    "print(f\"Reversed String: {reversed_str}\")\n"
   ]
  },
  {
   "cell_type": "markdown",
   "id": "ab814050",
   "metadata": {},
   "source": [
    "#### 8 Create a recursive Python function to calculate the power of a number (x^n).\n"
   ]
  },
  {
   "cell_type": "code",
   "execution_count": 45,
   "id": "96a8833b",
   "metadata": {},
   "outputs": [
    {
     "name": "stdout",
     "output_type": "stream",
     "text": [
      "2^5 = 32\n"
     ]
    }
   ],
   "source": [
    "def power(x, n):\n",
    "    # Base case: x^0 is 1 for any x\n",
    "    if n == 0:\n",
    "        return 1\n",
    "    # Recursive case: Use exponentiation by squaring\n",
    "    if n % 2 == 0:\n",
    "        # If n is even, compute (x^2)^(n/2)\n",
    "        half_power = power(x, n // 2)\n",
    "        return half_power * half_power\n",
    "    else:\n",
    "        # If n is odd, compute x * (x^(n-1))\n",
    "        return x * power(x, n - 1)\n",
    "\n",
    "# Test the function\n",
    "base = 2\n",
    "exponent = 5\n",
    "result = power(base, exponent)\n",
    "print(f\"{base}^{exponent} = {result}\")\n"
   ]
  },
  {
   "cell_type": "markdown",
   "id": "d7a512a1",
   "metadata": {},
   "source": [
    "#### 9 Write a recursive Python function to find all permutations of a given string.\n"
   ]
  },
  {
   "cell_type": "code",
   "execution_count": 48,
   "id": "f79b510e",
   "metadata": {},
   "outputs": [
    {
     "name": "stdout",
     "output_type": "stream",
     "text": [
      "Permutations of abc are:\n",
      "abc\n",
      "acb\n",
      "bac\n",
      "bca\n",
      "cab\n",
      "cba\n"
     ]
    }
   ],
   "source": [
    "def get_permutations(input_str):\n",
    "    # Base case: If the string has only one character, return it as a list\n",
    "    if len(input_str) == 1:\n",
    "        return [input_str]\n",
    "\n",
    "    # List to store the permutations\n",
    "    permutations = []\n",
    "\n",
    "    for i, char in enumerate(input_str):\n",
    "        # Generate all permutations of the string without the current character\n",
    "        rest = input_str[:i] + input_str[i+1:]\n",
    "        rest_permutations = get_permutations(rest)\n",
    "\n",
    "        # Append the current character to each permutation of the remaining characters\n",
    "        for perm in rest_permutations:\n",
    "            permutations.append(char + perm)\n",
    "\n",
    "    return permutations\n",
    "\n",
    "# Test the function\n",
    "input_string = \"abc\"\n",
    "permutations = get_permutations(input_string)\n",
    "print(\"Permutations of\", input_string, \"are:\")\n",
    "for perm in permutations:\n",
    "    print(perm)\n"
   ]
  },
  {
   "cell_type": "markdown",
   "id": "e0e538e0",
   "metadata": {},
   "source": [
    "#### 10 Write a recursive Python function to check if a string is a palindrome.\n"
   ]
  },
  {
   "cell_type": "code",
   "execution_count": 49,
   "id": "5b47bffe",
   "metadata": {},
   "outputs": [
    {
     "name": "stdout",
     "output_type": "stream",
     "text": [
      "racecar is a palindrome\n",
      "hello is not a palindrome\n"
     ]
    }
   ],
   "source": [
    "def is_palindrome(input_str):\n",
    "    # Base case: If the string has 0 or 1 character, it's a palindrome\n",
    "    if len(input_str) <= 1:\n",
    "        return True\n",
    "\n",
    "    # Check if the first and last characters are the same\n",
    "    if input_str[0] == input_str[-1]:\n",
    "        # Recursively check the substring without the first and last characters\n",
    "        return is_palindrome(input_str[1:-1])\n",
    "\n",
    "    return False  # If the first and last characters are different, it's not a palindrome\n",
    "\n",
    "# Test the function\n",
    "test_string = \"racecar\"\n",
    "if is_palindrome(test_string):\n",
    "    print(test_string, \"is a palindrome\")\n",
    "else:\n",
    "    print(test_string, \"is not a palindrome\")\n",
    "\n",
    "test_string = \"hello\"\n",
    "if is_palindrome(test_string):\n",
    "    print(test_string, \"is a palindrome\")\n",
    "else:\n",
    "    print(test_string, \"is not a palindrome\")\n"
   ]
  },
  {
   "cell_type": "markdown",
   "id": "f5deef38",
   "metadata": {},
   "source": [
    "#### 11 Create a recursive Python function to generate all possible combinations of a list of elements."
   ]
  },
  {
   "cell_type": "code",
   "execution_count": 51,
   "id": "51fcc3c7",
   "metadata": {},
   "outputs": [
    {
     "name": "stdout",
     "output_type": "stream",
     "text": [
      "[1, 2, 3]\n",
      "[1, 2]\n",
      "[1, 3]\n",
      "[1]\n",
      "[2, 3]\n",
      "[2]\n",
      "[3]\n",
      "[]\n"
     ]
    }
   ],
   "source": [
    "def generate_combinations(elements):\n",
    "    def generate_helper(current_combination, remaining_elements, index):\n",
    "        if index == len(elements):\n",
    "            combinations.append(current_combination)\n",
    "            return\n",
    "\n",
    "        # Include the current element in the combination\n",
    "        generate_helper(current_combination + [elements[index]], remaining_elements, index + 1)\n",
    "\n",
    "        # Exclude the current element from the combination\n",
    "        generate_helper(current_combination, remaining_elements, index + 1)\n",
    "\n",
    "    combinations = []\n",
    "    generate_helper([], elements, 0)\n",
    "    return combinations\n",
    "\n",
    "# Test the function\n",
    "input_elements = [1, 2, 3]\n",
    "combinations = generate_combinations(input_elements)\n",
    "\n",
    "# Print the generated combinations\n",
    "for combo in combinations:\n",
    "    print(combo)\n"
   ]
  },
  {
   "cell_type": "markdown",
   "id": "62c379ab",
   "metadata": {},
   "source": [
    "# Basics of Functions:"
   ]
  },
  {
   "cell_type": "markdown",
   "id": "edad563a",
   "metadata": {},
   "source": [
    "#### 1 What is a function in Python, and why is it used?\n"
   ]
  },
  {
   "cell_type": "raw",
   "id": "319ccfe3",
   "metadata": {},
   "source": [
    "-> A function in Python is a named, resuable  block of code that performs specific task or a set of tasks, functions are defined using the def keywords, a followed by a function name, a list of parameters in parentheses and a colon\n",
    "\n",
    "-> the function body is indented and contains the code that defines the behavior of the function. functions are fundamental concept in python and programming in general. \n",
    "\n",
    "\n",
    "-> functions are used for Modularity, Abstraction, Code Organization, parameterization, Return Values, code reusability, readability and maintainability"
   ]
  },
  {
   "cell_type": "markdown",
   "id": "588f4a69",
   "metadata": {},
   "source": [
    "#### 2 How do you define a function in Python? Provide an example.\n"
   ]
  },
  {
   "cell_type": "code",
   "execution_count": 53,
   "id": "cc44e094",
   "metadata": {},
   "outputs": [
    {
     "name": "stdout",
     "output_type": "stream",
     "text": [
      "Local Hello\n"
     ]
    }
   ],
   "source": [
    "def greet():\n",
    "    message = 'Hello'\n",
    "    \n",
    "    print('Local',message)\n",
    "    \n",
    "greet()"
   ]
  },
  {
   "cell_type": "code",
   "execution_count": 54,
   "id": "f4ad8870",
   "metadata": {},
   "outputs": [
    {
     "name": "stdout",
     "output_type": "stream",
     "text": [
      "25\n"
     ]
    }
   ],
   "source": [
    "def add(a,b):\n",
    "    print(a+b)\n",
    "\n",
    "add(12,13)"
   ]
  },
  {
   "cell_type": "markdown",
   "id": "98f4e455",
   "metadata": {},
   "source": [
    "#### 3 Explain the difference between a function definition and a function call.\n"
   ]
  },
  {
   "cell_type": "raw",
   "id": "2b28d5bf",
   "metadata": {},
   "source": [
    "-> In Python, There are two main aspects to working with functions:\n",
    "-> function definations and functions calls these are distinct but related concepts\n",
    "\n",
    "1) Function Defination \n",
    "-> Function defination is the creation of a new function. it specifies what the function does, what the arguments it takes and what value it returns \n",
    "-> In a function definition, you use the def keyword followed by function name and a set of parentheses containing parameter, names, a colon and an idented code block that defines the function behavior\n",
    "-> the purpose of a function definition is to define the structure and logic of a function, but it doesn't execute the function. it merely defines the function's name and expected behavior\n",
    "\n",
    "\n",
    "2) Function Call \n",
    "-> A function call is the execution of a function that has already been defined. It invokes the function and performs the specified actions or calculations as defined in the function's code block.\n",
    "-> To call a function, you use the function's name followed by parentheses that may contain arguments (values or variables) to be passed to the function. The function is executed, and it returns a result (if specified).\n",
    "-> The purpose of a function call is to make use of the defined function's functionality and obtain its results.\n",
    "\n",
    "\n",
    "->n summary, a function definition is the creation of a function that outlines its behavior, whereas a function call is the execution of a previously defined function to perform a specific task or computation."
   ]
  },
  {
   "cell_type": "markdown",
   "id": "f0f4d5a8",
   "metadata": {},
   "source": [
    "#### 4 Write a Python program that defines a function to calculate the sum of two numbers and then calls the function.\n"
   ]
  },
  {
   "cell_type": "code",
   "execution_count": 55,
   "id": "5240081d",
   "metadata": {},
   "outputs": [
    {
     "name": "stdout",
     "output_type": "stream",
     "text": [
      "25\n"
     ]
    }
   ],
   "source": [
    "def add(a,b):\n",
    "    print(a+b)\n",
    "\n",
    "add(12,13)"
   ]
  },
  {
   "cell_type": "markdown",
   "id": "c59a5191",
   "metadata": {},
   "source": [
    "#### 5 What is a function signature, and what information does it typically include?\n"
   ]
  },
  {
   "cell_type": "raw",
   "id": "67fce295",
   "metadata": {},
   "source": [
    "-> A function signature, often referred to as a function prototype, is a concise description of a function in a programming language that provides important information about the function's interface, including its name, the number and types of parameters it accepts, and the type of value it returns. The function signature typically includes the following information:\n",
    "\n",
    "1) Function Name: The name of the function, which is used to uniquely identify it in the program.\n",
    "2) Parameter List: The list of parameters that the function accepts, enclosed in parentheses. Each parameter is specified with its name and data type. The parameter list describes the inputs the function expects. For example:\n",
    "3) Return Type: The data type of the value that the function returns. In languages like Python, where functions can return values of various types or no value at all (using None), this may be omitted or left as an open-ended type like \"Any."
   ]
  },
  {
   "cell_type": "markdown",
   "id": "9d616a13",
   "metadata": {},
   "source": [
    "#### 6 Create a Python function that takes two arguments and returns their product.\n"
   ]
  },
  {
   "cell_type": "code",
   "execution_count": 56,
   "id": "15ed20dd",
   "metadata": {},
   "outputs": [
    {
     "name": "stdout",
     "output_type": "stream",
     "text": [
      "156\n"
     ]
    }
   ],
   "source": [
    "def product(a,b):\n",
    "    print(a*b)\n",
    "    \n",
    "product(12,13)"
   ]
  },
  {
   "cell_type": "markdown",
   "id": "8bc0f770",
   "metadata": {},
   "source": [
    "# Function Parameters and Arguments:\n",
    "\n",
    "\n",
    "\n"
   ]
  },
  {
   "cell_type": "markdown",
   "id": "29410d53",
   "metadata": {},
   "source": [
    "#### 1 Explain the concepts of formal parameters and actual arguments in Python functions.\n"
   ]
  },
  {
   "cell_type": "raw",
   "id": "802743c6",
   "metadata": {},
   "source": [
    "-> formal Paramater and actual arguments are essential for understanding how data is passed and used within a function\n",
    "-> these concepts help distinguish between the parameterss declared in function definition and the values or expressions provided when calling the function\n",
    "\n",
    "-> Formal parameters are placeholders or variables defined in the function's parameter list during the function definition. They serve as a way to receive and work with data that is provided when the function is called\n",
    "-> Formal parameters are the function's way of indicating what kind of data it expects and where that data will be used within the function's code.\n",
    "\n",
    "-> Actual arguments, often referred to as \"arguments,\" are the values or expressions that are passed to a function when it is called. They represent the actual data that the function will work with during the function call.\n",
    "-> Arguments are provided within the parentheses when calling the function."
   ]
  },
  {
   "cell_type": "markdown",
   "id": "8ac45f6d",
   "metadata": {},
   "source": [
    "#### 2 Write a Python program that defines a function with default argument values.\n"
   ]
  },
  {
   "cell_type": "raw",
   "id": "53dc0f77",
   "metadata": {},
   "source": [
    "In Python, you can define a function with default argument values by providing initial values for some or all of the function's parameters. Default arguments are used when a value is not provided for a particular parameter during the function call. \n",
    "\n",
    "example:"
   ]
  },
  {
   "cell_type": "code",
   "execution_count": 60,
   "id": "8c633fe4",
   "metadata": {},
   "outputs": [
    {
     "name": "stdout",
     "output_type": "stream",
     "text": [
      "Hi, Person!\n",
      "Hello, Person2!\n",
      "Hola, Person3!\n"
     ]
    }
   ],
   "source": [
    "def greet(name, greeting=\"Hello\"):\n",
    "    print(f\"{greeting}, {name}!\")\n",
    "\n",
    "greet(\"Person\", \"Hi\")\n",
    "\n",
    "greet(\"Person2\")\n",
    "\n",
    "greet(greeting=\"Hola\", name=\"Person3\")\n"
   ]
  },
  {
   "cell_type": "markdown",
   "id": "bfe1d43b",
   "metadata": {},
   "source": [
    "#### 3 How do you use keyword arguments in Python function calls? Provide an example.\n"
   ]
  },
  {
   "cell_type": "markdown",
   "id": "46ee3bb1",
   "metadata": {},
   "source": [
    "->  you can use keyword arguments in function calls by specifying the parameter names along with their corresponding values. \n",
    "-> This allows you to provide arguments out of order and makes the function call more self-explanatory. Keyword arguments are especially useful when dealing with functions that have many parameters or when you want to make your code more readable.\n",
    "\n",
    "example"
   ]
  },
  {
   "cell_type": "code",
   "execution_count": 61,
   "id": "1ea8a483",
   "metadata": {},
   "outputs": [
    {
     "name": "stdout",
     "output_type": "stream",
     "text": [
      "Hi, Person1!\n",
      "Hii, Person2!\n",
      "Hola, Person3!\n"
     ]
    }
   ],
   "source": [
    "def greet(name, greeting=\"Hello\"):\n",
    "    print(f\"{greeting}, {name}!\")\n",
    "\n",
    "# Using keyword arguments in function calls\n",
    "greet(name=\"Person1\", greeting=\"Hi\")\n",
    "greet(greeting=\"Hii\", name=\"Person2\")\n",
    "\n",
    "# Mixing positional and keyword arguments\n",
    "greet(\"Person3\", greeting=\"Hola\")\n"
   ]
  },
  {
   "cell_type": "markdown",
   "id": "b397320f",
   "metadata": {},
   "source": [
    "#### 4 Create a Python function that accepts a variable number of arguments and calculates their sum.\n"
   ]
  },
  {
   "cell_type": "code",
   "execution_count": 62,
   "id": "04a34a0b",
   "metadata": {},
   "outputs": [
    {
     "name": "stdout",
     "output_type": "stream",
     "text": [
      "Sum = 10\n"
     ]
    }
   ],
   "source": [
    "def find_num(*numbers):\n",
    "    result = 0\n",
    "    \n",
    "    for num in numbers:\n",
    "        result = result + num\n",
    "    print(\"Sum =\",result)\n",
    "\n",
    "find_num(1,2,3,4)"
   ]
  },
  {
   "cell_type": "markdown",
   "id": "17e23cde",
   "metadata": {},
   "source": [
    "#### 5 What is the purpose of the `*args` and `**kwargs` syntax in function parameter lists?\n"
   ]
  },
  {
   "cell_type": "raw",
   "id": "d969f813",
   "metadata": {},
   "source": [
    "1) *args\n",
    "-> *args allows a function to accept a variable number of positional arguments.\n",
    "-> It is often used when you want to pass an arbitrary number of arguments to a function without specifying them individually.\n",
    "-> *args is a tuple that collects all the positional arguments passed to the function.\n",
    "-> You can use any variable name instead of args, but the * (asterisk) notation is what allows a function to accept a variable number of positional arguments."
   ]
  },
  {
   "cell_type": "code",
   "execution_count": 63,
   "id": "9b8a73c7",
   "metadata": {},
   "outputs": [
    {
     "name": "stdout",
     "output_type": "stream",
     "text": [
      "Sum = 10\n"
     ]
    }
   ],
   "source": [
    "def find_num(*numbers):\n",
    "    result = 0\n",
    "    \n",
    "    for num in numbers:\n",
    "        result = result + num\n",
    "    print(\"Sum =\",result)\n",
    "\n",
    "find_num(1,2,3,4)"
   ]
  },
  {
   "cell_type": "raw",
   "id": "23c4e4b6",
   "metadata": {},
   "source": [
    "2) **kwargs\n",
    "-> **kwargs allows a function to accept a variable number of keyword arguments (name-value pairs).\n",
    "-> It is often used when you want to pass a flexible set of keyword arguments to a function without specifying them individually.\n",
    "-> **kwargs is a dictionary that collects all the keyword arguments passed to the function.\n",
    "-> You can use any variable name instead of kwargs, but the ** (double asterisk) notation is what allows a function to accept a "
   ]
  },
  {
   "cell_type": "code",
   "execution_count": 67,
   "id": "0479d827",
   "metadata": {},
   "outputs": [
    {
     "name": "stdout",
     "output_type": "stream",
     "text": [
      "name: TMR\n",
      "age: 21\n",
      "State: Gujarat\n"
     ]
    }
   ],
   "source": [
    "def display_info(**kwargs):\n",
    "    for key, value in kwargs.items():\n",
    "        print(f\"{key}: {value}\")\n",
    "\n",
    "display_info(name=\"TMR\", age=21, State=\"Gujarat\")"
   ]
  },
  {
   "cell_type": "markdown",
   "id": "e7cdee07",
   "metadata": {},
   "source": [
    "# Return Values and Scoping:"
   ]
  },
  {
   "cell_type": "markdown",
   "id": "79639c96",
   "metadata": {},
   "source": [
    "#### 1 Describe the role of the `return` statement in Python functions and provide examples.\n"
   ]
  },
  {
   "cell_type": "markdown",
   "id": "083c0298",
   "metadata": {},
   "source": [
    "-> The return statement in Python functions is used to specify the value or values that the function should provide as its result when it is called\n",
    "\n",
    "Example"
   ]
  },
  {
   "cell_type": "code",
   "execution_count": 69,
   "id": "61df2dcf",
   "metadata": {},
   "outputs": [
    {
     "name": "stdout",
     "output_type": "stream",
     "text": [
      "Sum: 8\n"
     ]
    }
   ],
   "source": [
    "def add_numbers(a, b):\n",
    "    result = a + b\n",
    "    return result\n",
    "\n",
    "sum_result = add_numbers(3, 5)  \n",
    "print(\"Sum:\", sum_result)  \n"
   ]
  },
  {
   "cell_type": "markdown",
   "id": "3cbd2f70",
   "metadata": {},
   "source": [
    "#### 2 Explain the concept of variable scope in Python, including local and global variables.\n"
   ]
  },
  {
   "cell_type": "raw",
   "id": "9f5d899a",
   "metadata": {},
   "source": [
    "-> Variable scope in Python refers to the context or region of a program where a variable is accessible and can be referenced.\n",
    "\n",
    "1) Local Variables:\n",
    "-> Local variables are defined within a specific block of code, such as a function or a code block enclosed by curly braces.\n",
    "-> They are accessible only within the block where they are defined and are not visible or usable outside that block\n",
    "-> They are accessible only within the block where they are defined and are not visible or usable outside that block\n",
    "\n",
    "example:"
   ]
  },
  {
   "cell_type": "code",
   "execution_count": 71,
   "id": "5e75d534",
   "metadata": {},
   "outputs": [
    {
     "name": "stdout",
     "output_type": "stream",
     "text": [
      "10\n"
     ]
    }
   ],
   "source": [
    "def my_function():\n",
    "    local_var = 10\n",
    "    print(local_var)  # Accessing local_var within the function\n",
    "\n",
    "my_function()\n",
    "# print(local_var)  # This would result in an error - local_var is not accessible here\n"
   ]
  },
  {
   "cell_type": "raw",
   "id": "48e8e61c",
   "metadata": {},
   "source": [
    "2) Global Variable: \n",
    "-> Global variables are defined outside of any function or code block and have a broader scope; they can be accessed from any part of the program, including within functions.\n",
    "-> They are typically declared at the top level of a script or module, and their values persist throughout the program's execution."
   ]
  },
  {
   "cell_type": "code",
   "execution_count": 72,
   "id": "a86c792b",
   "metadata": {},
   "outputs": [
    {
     "name": "stdout",
     "output_type": "stream",
     "text": [
      "20\n",
      "20\n"
     ]
    }
   ],
   "source": [
    "global_var = 20  \n",
    "def my_function():\n",
    "    print(global_var)  # Accessing the global variable within the function\n",
    "\n",
    "my_function()\n",
    "print(global_var)  # Accessing the global variable outside the function\n"
   ]
  },
  {
   "cell_type": "markdown",
   "id": "fd86179c",
   "metadata": {},
   "source": [
    "#### 3 Write a Python program that demonstrates the use of global variables within functions.\n"
   ]
  },
  {
   "cell_type": "code",
   "execution_count": 73,
   "id": "14473ddf",
   "metadata": {},
   "outputs": [
    {
     "name": "stdout",
     "output_type": "stream",
     "text": [
      "20\n"
     ]
    }
   ],
   "source": [
    "global_var = 20  # Declared outside any function\n",
    "\n",
    "def my_function():\n",
    "    print(global_var)  # Accessing the global variable within the function\n",
    "\n",
    "my_function()"
   ]
  },
  {
   "cell_type": "markdown",
   "id": "c8fb70ae",
   "metadata": {},
   "source": [
    "#### 4 Create a Python function that calculates the factorial of a number and returns it.\n"
   ]
  },
  {
   "cell_type": "code",
   "execution_count": 75,
   "id": "3b428c74",
   "metadata": {},
   "outputs": [
    {
     "name": "stdout",
     "output_type": "stream",
     "text": [
      "The factorial of 5 is 120\n"
     ]
    }
   ],
   "source": [
    "def factorial(n):\n",
    "    if n == 0 or n == 1:\n",
    "        return 1\n",
    "    else:\n",
    "        return n * factorial(n - 1)\n",
    "\n",
    "number = 5\n",
    "result = factorial(number)\n",
    "print(f\"The factorial of {number} is {result}\")\n"
   ]
  },
  {
   "cell_type": "markdown",
   "id": "85075e7e",
   "metadata": {},
   "source": [
    "#### 5 How can you access variables defined outside a function from within the function?\n"
   ]
  },
  {
   "cell_type": "raw",
   "id": "a8424c18",
   "metadata": {},
   "source": [
    "-> you can access variables defined outside a function from within the function by making use of the variable's scope. Variables that are defined outside a function are considered global variables, and they are accessible from within functions\n",
    "\n",
    "example"
   ]
  },
  {
   "cell_type": "code",
   "execution_count": 76,
   "id": "1c9b79d0",
   "metadata": {},
   "outputs": [
    {
     "name": "stdout",
     "output_type": "stream",
     "text": [
      "Inside the function: global_var = 20\n",
      "Outside the function: global_var = 20\n"
     ]
    }
   ],
   "source": [
    "global_var = 20  # This is a global variable\n",
    "\n",
    "def my_function():\n",
    "    # Accessing the global variable from within the function\n",
    "    print(\"Inside the function: global_var =\", global_var)\n",
    "\n",
    "my_function()\n",
    "\n",
    "# Accessing the global variable from outside the function\n",
    "print(\"Outside the function: global_var =\", global_var)\n"
   ]
  },
  {
   "cell_type": "markdown",
   "id": "324f36ea",
   "metadata": {},
   "source": [
    "# Lambda Functions and Higher-Order Functions:\n",
    "\n"
   ]
  },
  {
   "cell_type": "markdown",
   "id": "c9c6098a",
   "metadata": {},
   "source": [
    "#### 1 What are lambda functions in Python, and when are they typically used?\n"
   ]
  },
  {
   "cell_type": "raw",
   "id": "e4885790",
   "metadata": {},
   "source": [
    "-> Lambda functions in Python, also known as anonymous functions, are small, unnamed functions defined using the lambda keyword\n",
    "\n",
    "-> They are used for creating simple, short functions on the fly without the need to define a full function using the def keyword.\n",
    "\n",
    "Lambda functions are typically used in the following scenarios:\n",
    "\n",
    "*) Lambda functions are useful when you need a small function for a specific task that you don't want to define explicitly using def. For tasks that require a short, simple computation, a lambda function can provide a concise solution."
   ]
  },
  {
   "cell_type": "code",
   "execution_count": 79,
   "id": "d59e49fc",
   "metadata": {},
   "outputs": [
    {
     "data": {
      "text/plain": [
       "25"
      ]
     },
     "execution_count": 79,
     "metadata": {},
     "output_type": "execute_result"
    }
   ],
   "source": [
    "square = lambda x: x ** 2  # Lambda function to square a number\n",
    "result = square(5)  \n",
    "result"
   ]
  },
  {
   "cell_type": "markdown",
   "id": "4ff530df",
   "metadata": {},
   "source": [
    "#### 2 Write a Python program that uses lambda functions to sort a list of tuples based on the second element.\n"
   ]
  },
  {
   "cell_type": "code",
   "execution_count": 80,
   "id": "8a4d357a",
   "metadata": {},
   "outputs": [
    {
     "name": "stdout",
     "output_type": "stream",
     "text": [
      "Sorted list based on the second element:\n",
      "[[1, 2], [8, 3], [4, 5]]\n"
     ]
    }
   ],
   "source": [
    "L1 = [[1, 2], [4, 5], [8, 3]]\n",
    "\n",
    "# Sort the list based on the second element of each sublist\n",
    "sorted_L1 = sorted(L1, key=lambda x: x[1])\n",
    "\n",
    "print(\"Sorted list based on the second element:\")\n",
    "print(sorted_L1)\n"
   ]
  },
  {
   "cell_type": "markdown",
   "id": "ec98e4fe",
   "metadata": {},
   "source": [
    "#### 3 Explain the concept of higher-order functions in Python, and provide an example.\n"
   ]
  },
  {
   "cell_type": "raw",
   "id": "d197a148",
   "metadata": {},
   "source": [
    "-> higher-order functions are functions that can take other functions as arguments and/or return functions as results.\n",
    "-> functions are treated like any other data type such as integers or strings. Higher-order functions enable more expressive and dynamic coding and are a fundamental concept in functional programming."
   ]
  },
  {
   "cell_type": "code",
   "execution_count": 81,
   "id": "6daec3af",
   "metadata": {},
   "outputs": [
    {
     "name": "stdout",
     "output_type": "stream",
     "text": [
      "Squared Numbers: [1, 4, 9, 16]\n",
      "Doubled Numbers: [2, 4, 6, 8]\n"
     ]
    }
   ],
   "source": [
    "def apply_function_to_list(func, data):\n",
    "    result = []\n",
    "    for item in data:\n",
    "        result.append(func(item))\n",
    "    return result\n",
    "\n",
    "# A function that squares a number\n",
    "def square(x):\n",
    "    return x ** 2\n",
    "\n",
    "# A function that doubles a number\n",
    "def double(x):\n",
    "    return x * 2\n",
    "\n",
    "numbers = [1, 2, 3, 4]\n",
    "\n",
    "# Using the higher-order function with different functions as arguments\n",
    "squared_numbers = apply_function_to_list(square, numbers)  # Squares each number\n",
    "doubled_numbers = apply_function_to_list(double, numbers)  # Doubles each number\n",
    "\n",
    "print(\"Squared Numbers:\", squared_numbers)\n",
    "print(\"Doubled Numbers:\", doubled_numbers)\n"
   ]
  },
  {
   "cell_type": "markdown",
   "id": "2423586e",
   "metadata": {},
   "source": [
    "#### 4 Create a Python function that takes a list of numbers and a function as arguments, applying the function to each element in the list.\n"
   ]
  },
  {
   "cell_type": "code",
   "execution_count": 82,
   "id": "af446fae",
   "metadata": {},
   "outputs": [
    {
     "name": "stdout",
     "output_type": "stream",
     "text": [
      "Original Numbers: [1, 2, 3, 4]\n",
      "Squared Numbers: [1, 4, 9, 16]\n",
      "Doubled Numbers: [2, 4, 6, 8]\n"
     ]
    }
   ],
   "source": [
    "def apply_function_to_list(func, data):\n",
    "    result = []\n",
    "    for item in data:\n",
    "        result.append(func(item))\n",
    "    return result\n",
    "\n",
    "# Example list of numbers\n",
    "numbers = [1, 2, 3, 4]\n",
    "\n",
    "# Applying a lambda function to square each element of the list\n",
    "squared_numbers = apply_function_to_list(lambda x: x ** 2, numbers)\n",
    "\n",
    "# Applying a lambda function to double each element of the list\n",
    "doubled_numbers = apply_function_to_list(lambda x: x * 2, numbers)\n",
    "\n",
    "print(\"Original Numbers:\", numbers)\n",
    "print(\"Squared Numbers:\", squared_numbers)\n",
    "print(\"Doubled Numbers:\", doubled_numbers)\n"
   ]
  },
  {
   "cell_type": "markdown",
   "id": "0b580dd4",
   "metadata": {},
   "source": [
    "# Built-in Functions:\n",
    "\n",
    "\n"
   ]
  },
  {
   "cell_type": "markdown",
   "id": "b1daa8c7",
   "metadata": {},
   "source": [
    "#### 1 Describe the role of built-in functions like `len()`, `max()`, and `min()` in Python.\n"
   ]
  },
  {
   "cell_type": "raw",
   "id": "6a56a88f",
   "metadata": {},
   "source": [
    "->Built-in functions like len(), max(), and min() in Python are essential for performing common operations on data structures and sequences, such as strings, lists, and tuples. \n",
    "\n",
    "1) len()\n",
    "-> The len() function is used to determine the length or the number of elements in a data structure or sequence.\n",
    "\n",
    "2) max()\n",
    "-> The max() function is used to find the maximum (largest) value within an iterable or among a set of values.\n",
    "\n",
    "3) min()\n",
    "-> The min() function is used to find the minimum (smallest) value within an iterable or among a set of values."
   ]
  },
  {
   "cell_type": "markdown",
   "id": "4f6a52ba",
   "metadata": {},
   "source": [
    "#### 2 Write a Python program that uses the `map()` function to apply a function to each element of a list."
   ]
  },
  {
   "cell_type": "code",
   "execution_count": 83,
   "id": "4c7c7f1a",
   "metadata": {},
   "outputs": [
    {
     "data": {
      "text/plain": [
       "[3, 4, 5]"
      ]
     },
     "execution_count": 83,
     "metadata": {},
     "output_type": "execute_result"
    }
   ],
   "source": [
    "def test12(c):\n",
    "    return c+2\n",
    "\n",
    "list(map(test12,[1,2,3]))"
   ]
  },
  {
   "cell_type": "markdown",
   "id": "a9f09b71",
   "metadata": {},
   "source": [
    "#### 3 How does the `filter()` function work in Python, and when would you use it?\n"
   ]
  },
  {
   "cell_type": "raw",
   "id": "62d9c1aa",
   "metadata": {},
   "source": [
    "-> filter() function in Python is used to filter elements from an iterable based on specified condition, provided as a function\n",
    "\n",
    "-> it returns an iterator that yields only the element for which the condition evaluate to true.\n",
    "-> It works by applying the provided function to each element of the iterable, and if the function returns True for an element, that element is included in the result. If the function returns False, the element is excluded.\n",
    "-> in other words, it helps you to create a new iterable containing a subset of the element from the original iterable that satisfy the filtering criteria\n",
    "\n",
    "\n",
    "example "
   ]
  },
  {
   "cell_type": "code",
   "execution_count": 87,
   "id": "939a0111",
   "metadata": {},
   "outputs": [
    {
     "data": {
      "text/plain": [
       "[2, 4, 6]"
      ]
     },
     "execution_count": 87,
     "metadata": {},
     "output_type": "execute_result"
    }
   ],
   "source": [
    "numbers = [1, 2, 3, 4, 5, 6]\n",
    "even_numbers = list(filter(lambda x: x % 2 == 0, numbers))\n",
    "\n",
    "even_numbers"
   ]
  },
  {
   "cell_type": "markdown",
   "id": "7d98cf43",
   "metadata": {},
   "source": [
    "#### 4 Create a Python program that uses the `reduce()` function to find the product of all elements in a list.\n"
   ]
  },
  {
   "cell_type": "code",
   "execution_count": 88,
   "id": "ac0b37cd",
   "metadata": {},
   "outputs": [
    {
     "data": {
      "text/plain": [
       "720"
      ]
     },
     "execution_count": 88,
     "metadata": {},
     "output_type": "execute_result"
    }
   ],
   "source": [
    "from functools import reduce\n",
    "\n",
    "l = [1,2,3,4,5,6]\n",
    "\n",
    "reduce(lambda a,b:a*b,l)"
   ]
  },
  {
   "cell_type": "markdown",
   "id": "4152eaa2",
   "metadata": {},
   "source": [
    "# Function Documentation and Best Practices:\n",
    "\n"
   ]
  },
  {
   "cell_type": "markdown",
   "id": "c9c1962f",
   "metadata": {},
   "source": [
    "#### 1 Explain the purpose of docstrings in Python functions and how to write them.\n"
   ]
  },
  {
   "cell_type": "raw",
   "id": "5ed8715b",
   "metadata": {},
   "source": [
    "-> Docstrings in Python are used to document functions, modules, classes, and methods, providing information about their purpose, usage, and parameters. They serve as a form of documentation to help developers and users understand how to use the code effectively. Writing clear and informative docstrings is a good practice because it makes your code more readable and maintainable."
   ]
  },
  {
   "cell_type": "code",
   "execution_count": 90,
   "id": "2e001128",
   "metadata": {},
   "outputs": [],
   "source": [
    "def calculate_square(x):\n",
    "    \"\"\"\n",
    "    Calculate the square of a number.\n",
    "\n",
    "    Parameters:\n",
    "    x (int or float): The number for which the square should be calculated.\n",
    "\n",
    "    Returns:\n",
    "    int or float: The square of the input number.\n",
    "\n",
    "    Example:\n",
    "    >>> calculate_square(3)\n",
    "    9\n",
    "    >>> calculate_square(2.5)\n",
    "    6.25\n",
    "    \"\"\"\n",
    "    return x ** 2\n"
   ]
  },
  {
   "cell_type": "code",
   "execution_count": 91,
   "id": "57c31355",
   "metadata": {},
   "outputs": [
    {
     "data": {
      "text/plain": [
       "9"
      ]
     },
     "execution_count": 91,
     "metadata": {},
     "output_type": "execute_result"
    }
   ],
   "source": [
    "calculate_square(3)"
   ]
  },
  {
   "cell_type": "markdown",
   "id": "bf0da711",
   "metadata": {},
   "source": [
    "#### 2 Describe some best practices for naming functions and variables in Python, including naming conventions and guidelines.\n"
   ]
  },
  {
   "cell_type": "raw",
   "id": "4101c2bf",
   "metadata": {},
   "source": [
    "-> Naming functions and variables in Python is an important aspect of writing clean and readable code\n",
    "\n",
    "-> Here are some best practices for naming functions and variables in Python:\n",
    "\n",
    "1) Use Descriptive Names\n",
    "-> Choose names that are clear and describe the purpose or content of the function or variable. A well-chosen name can eliminate the need for excessive comments.\n",
    "\n",
    "2) Use Snake Case for Variable and Function Names:\n",
    "-> Snake case is the convention of using lowercase letters with underscores to separate words in variable and function names.\n",
    "-> Example: total_count, calculate_area()\n",
    "\n",
    "3) Use Meaningful Verb-Noun Pairs for Functions:\n",
    "-> When naming functions, it's often a good practice to use a meaningful verb-noun pair that describes what the function does.\n",
    "-> Example: calculate_area(), validate_email()\n",
    "\n",
    "4) Avoid Reserved Keywords:\n",
    "-> Avoid using Python's reserved keywords or built-in names for functions or variables. This can lead to unexpected behavior.\n",
    "-> Example: Don't use names like list, str, or int for your functions or variables.\n",
    "\n",
    "5) Give Variables Descriptive Names: Ex: total_price\n",
    "\n",
    "6) Use CamelCase for Class Names: ex MyClass\n",
    "\n",
    "7) Dont Use digit or special character to start your variable name: example $123abc"
   ]
  }
 ],
 "metadata": {
  "kernelspec": {
   "display_name": "Python 3 (ipykernel)",
   "language": "python",
   "name": "python3"
  },
  "language_info": {
   "codemirror_mode": {
    "name": "ipython",
    "version": 3
   },
   "file_extension": ".py",
   "mimetype": "text/x-python",
   "name": "python",
   "nbconvert_exporter": "python",
   "pygments_lexer": "ipython3",
   "version": "3.9.7"
  }
 },
 "nbformat": 4,
 "nbformat_minor": 5
}
