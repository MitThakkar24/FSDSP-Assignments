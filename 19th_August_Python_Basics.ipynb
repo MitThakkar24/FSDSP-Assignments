{
 "cells": [
  {
   "cell_type": "markdown",
   "id": "6a507b46",
   "metadata": {},
   "source": [
    "# TOPIC: Python Basics Variable"
   ]
  },
  {
   "cell_type": "markdown",
   "id": "3e13e649",
   "metadata": {},
   "source": [
    "#### 1. Declare two variables, `x` and `y`, and assign them integer values. Swap the\n",
    "#### values of these variables without using any temporary variable."
   ]
  },
  {
   "cell_type": "code",
   "execution_count": 1,
   "id": "2bac6a9b",
   "metadata": {},
   "outputs": [
    {
     "name": "stdout",
     "output_type": "stream",
     "text": [
      "Value Before Swapping X and Y\n",
      "x= 10\n",
      "y= 20\n",
      "\n",
      "Value After Swapping X and Y\n",
      "x= 20\n",
      "y= 10\n"
     ]
    }
   ],
   "source": [
    "#Declaring Variable\n",
    "x = 10 \n",
    "y = 20 \n",
    "print('Value Before Swapping X and Y')\n",
    "print('x=',x)\n",
    "print('y=',y)\n",
    "\n",
    "#Swapping Both\n",
    "x,y = y,x # Possible due to tuple unpacking technique\n",
    "\n",
    "print()\n",
    "print('Value After Swapping X and Y')\n",
    "print('x=',x)\n",
    "print('y=',y)"
   ]
  },
  {
   "cell_type": "markdown",
   "id": "8f1e1ba8",
   "metadata": {},
   "source": [
    "#### 2. Create a program that calculates the area of a rectangle. Take the length and\n",
    "#### width as inputs from the user and store them in variables. Calculate and\n",
    "#### display the area."
   ]
  },
  {
   "cell_type": "code",
   "execution_count": 2,
   "id": "d7e53da2",
   "metadata": {},
   "outputs": [
    {
     "name": "stdout",
     "output_type": "stream",
     "text": [
      "Length=12 \n",
      "Width=13\n",
      "Area of Rectangle with Height = 12 and width = 13 is 156\n"
     ]
    }
   ],
   "source": [
    "# Take User Input \n",
    "Length = int(input('Length='))\n",
    "Width = int(input('Width='))\n",
    "\n",
    "# Finding Area of Rectangle \n",
    "AOR = Length*Width\n",
    "\n",
    "#Showing Output to User \n",
    "print('Area of Rectangle with Height = {} and width = {} is {}'.format(Length,Width,AOR))"
   ]
  },
  {
   "cell_type": "markdown",
   "id": "676868f5",
   "metadata": {},
   "source": [
    "#### 3. Write a Python program that converts temperatures from Celsius to\n",
    "#### Fahrenheit. Take the temperature in Celsius as input, store it in a variable,\n",
    "#### convert it to Fahrenheit, and display the result."
   ]
  },
  {
   "cell_type": "code",
   "execution_count": 3,
   "id": "816e2965",
   "metadata": {},
   "outputs": [
    {
     "name": "stdout",
     "output_type": "stream",
     "text": [
      "Enter Temprature in Celcius = 30.4\n",
      "30.4 Celcius in Fehrenheit is 86.72 \n"
     ]
    }
   ],
   "source": [
    "# Taking User Input in Celcius\n",
    "Celcius = float(input('Enter Temprature in Celcius = '))\n",
    "\n",
    "# Conversion Logic \n",
    "Fehrenheit = (Celcius*1.8) + 32\n",
    "\n",
    "# Showing Output\n",
    "print('{} Celcius in Fehrenheit is {} '.format(Celcius,Fehrenheit))"
   ]
  },
  {
   "cell_type": "markdown",
   "id": "fcba2dc0",
   "metadata": {},
   "source": [
    "# TOPIC: String Based Questions"
   ]
  },
  {
   "cell_type": "markdown",
   "id": "f22dac31",
   "metadata": {},
   "source": [
    "#### 1. Write a Python program that takes a string as input and prints the length of the string."
   ]
  },
  {
   "cell_type": "code",
   "execution_count": 4,
   "id": "68f96cf7",
   "metadata": {},
   "outputs": [
    {
     "name": "stdout",
     "output_type": "stream",
     "text": [
      "Enter Your String: Hello world\n",
      "Length of string is 11\n"
     ]
    }
   ],
   "source": [
    "# Taking User Input \n",
    "UserString = input('Enter Your String: ')\n",
    "\n",
    "#Showing length of string using string len function\n",
    "print('Length of string is',len(UserString))"
   ]
  },
  {
   "cell_type": "markdown",
   "id": "72d22131",
   "metadata": {},
   "source": [
    "#### 2. Create a program that takes a sentence from the user and counts the number of vowels (a, e, i, o, u) in the string."
   ]
  },
  {
   "cell_type": "code",
   "execution_count": 5,
   "id": "a2479f65",
   "metadata": {},
   "outputs": [
    {
     "name": "stdout",
     "output_type": "stream",
     "text": [
      "Enter Your String: hello world\n",
      "Count of Vowels in your String is  3\n"
     ]
    }
   ],
   "source": [
    "# Taking User Input String \n",
    "UserString = input('Enter Your String: ')\n",
    "\n",
    "#Declaring Variable to Get count vowels \n",
    "CountVowels = 0\n",
    "\n",
    "# Programming Logic \n",
    "for i in UserString:\n",
    "    if i in ('a','e','i','o','u'):\n",
    "        CountVowels = CountVowels + 1\n",
    "\n",
    "#Showing Output \n",
    "print('Count of Vowels in your String is ',CountVowels)"
   ]
  },
  {
   "cell_type": "markdown",
   "id": "69169c16",
   "metadata": {},
   "source": [
    "#### 3. Given a string, reverse the order of characters using string slicing and print the reversed string."
   ]
  },
  {
   "cell_type": "code",
   "execution_count": 6,
   "id": "a0dbf60e",
   "metadata": {},
   "outputs": [
    {
     "name": "stdout",
     "output_type": "stream",
     "text": [
      "Enter Your String: hello world\n",
      "Reverse String is  dlrow olleh\n"
     ]
    }
   ],
   "source": [
    "# Taking User Input String \n",
    "UserString = input('Enter Your String: ')\n",
    "\n",
    "# Reversing User Given String\n",
    "ReverseString = UserString[::-1]\n",
    "\n",
    "# Showing Output \n",
    "print('Reverse String is ',ReverseString)"
   ]
  },
  {
   "cell_type": "markdown",
   "id": "9b4cee65",
   "metadata": {},
   "source": [
    "#### 4. Write a program that takes a string as input and checks if it is a palindrome (reads the same forwards and backwards)."
   ]
  },
  {
   "cell_type": "code",
   "execution_count": 7,
   "id": "2369a36d",
   "metadata": {},
   "outputs": [
    {
     "name": "stdout",
     "output_type": "stream",
     "text": [
      "Enter Your String:  level \n",
      "String is Palindrome\n"
     ]
    }
   ],
   "source": [
    "# Taking User Input String \n",
    "UserString = input('Enter Your String: ')\n",
    "\n",
    "#Cleaning String\n",
    "CleanedUserString = UserString.strip().lower()\n",
    "\n",
    "# Palindrome Logic \n",
    "ReverseString = UserString[::-1].strip()\n",
    "\n",
    "if CleanedUserString == ReverseString:\n",
    "    print('String is Palindrome')\n",
    "else: \n",
    "    print('String is Not Palindrome')"
   ]
  },
  {
   "cell_type": "markdown",
   "id": "018bba92",
   "metadata": {},
   "source": [
    "#### 5. Create a program that takes a string as input and removes all the spaces from it. Print the modified string without spaces."
   ]
  },
  {
   "cell_type": "code",
   "execution_count": 8,
   "id": "e0dce6db",
   "metadata": {},
   "outputs": [
    {
     "name": "stdout",
     "output_type": "stream",
     "text": [
      "Enter Your String: hello world\n",
      "String Without Space is helloworld\n"
     ]
    }
   ],
   "source": [
    "# Taking User Input String \n",
    "UserString = input('Enter Your String: ')\n",
    "\n",
    "#Logic to Remove Spaces using string function \n",
    "StrWithoutSpace = \"\".join(UserString.split(\" \")) \n",
    "#So this will take user string split it with space and output of userString.split(\" \") will be a list of all word\n",
    "# \"\".join will join all the words in list without space\n",
    "\n",
    "\n",
    "print('String Without Space is',StrWithoutSpace)"
   ]
  }
 ],
 "metadata": {
  "kernelspec": {
   "display_name": "Python 3 (ipykernel)",
   "language": "python",
   "name": "python3"
  },
  "language_info": {
   "codemirror_mode": {
    "name": "ipython",
    "version": 3
   },
   "file_extension": ".py",
   "mimetype": "text/x-python",
   "name": "python",
   "nbconvert_exporter": "python",
   "pygments_lexer": "ipython3",
   "version": "3.9.7"
  }
 },
 "nbformat": 4,
 "nbformat_minor": 5
}
