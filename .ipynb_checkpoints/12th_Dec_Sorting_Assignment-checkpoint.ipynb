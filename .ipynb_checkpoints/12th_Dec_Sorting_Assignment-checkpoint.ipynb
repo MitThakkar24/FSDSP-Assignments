{
 "cells": [
  {
   "cell_type": "markdown",
   "id": "b57b0329",
   "metadata": {},
   "source": [
    "##### Problem 1.Given an array of n numbers, give an algorithm which gives the element appearing maximum number of times?"
   ]
  },
  {
   "cell_type": "code",
   "execution_count": 2,
   "id": "a23f5eda",
   "metadata": {},
   "outputs": [
    {
     "name": "stdout",
     "output_type": "stream",
     "text": [
      "The element appearing the most number of times is: 3\n"
     ]
    }
   ],
   "source": [
    "def find_most_frequent_element(arr):\n",
    "    count_map = {}\n",
    "    max_count = 0\n",
    "    max_element = None\n",
    "\n",
    "    for num in arr:\n",
    "        if num in count_map:\n",
    "            count_map[num] += 1\n",
    "        else:\n",
    "            count_map[num] = 1\n",
    "\n",
    "        if count_map[num] > max_count:\n",
    "            max_count = count_map[num]\n",
    "            max_element = num\n",
    "\n",
    "    return max_element\n",
    "\n",
    "# Example usage:\n",
    "array = [1, 3, 5, 3, 7, 3, 5, 3, 9, 3]\n",
    "result = find_most_frequent_element(array)\n",
    "print(f\"The element appearing the most number of times is: {result}\")\n"
   ]
  },
  {
   "cell_type": "markdown",
   "id": "4dbc5c54",
   "metadata": {},
   "source": [
    "##### Problem 2 : We are given a list of n-1 integers and these integers are in the range of 1 to n . There are no duplicates in the list. One of the integers is missing in the list. Give an algorithm to find that element Ex: [1,2,4,6,3,7,8] 5 is the missing num."
   ]
  },
  {
   "cell_type": "code",
   "execution_count": 3,
   "id": "a32f9b46",
   "metadata": {},
   "outputs": [
    {
     "name": "stdout",
     "output_type": "stream",
     "text": [
      "The missing number is: 5\n"
     ]
    }
   ],
   "source": [
    "def find_missing_number(arr):\n",
    "    n = len(arr) + 1  # Since there are n-1 integers and one is missing\n",
    "    total_sum = (n * (n + 1)) // 2  # Sum of first n natural numbers\n",
    "    array_sum = sum(arr)  # Sum of the given array\n",
    "\n",
    "    missing_number = total_sum - array_sum\n",
    "    return missing_number\n",
    "\n",
    "# Example usage:\n",
    "nums = [1, 2, 4, 6, 3, 7, 8]\n",
    "missing = find_missing_number(nums)\n",
    "print(f\"The missing number is: {missing}\")\n"
   ]
  },
  {
   "cell_type": "markdown",
   "id": "1ea307e6",
   "metadata": {},
   "source": [
    "##### Problem 3 : Given an array of n positive numbers. All numbers occurs even number of times except 1 which occurs odd number of times. Find that number in O(n) time and O(1) space. Ex: [1,2,3,2,3,1,3]. 3 is repeats odd times."
   ]
  },
  {
   "cell_type": "code",
   "execution_count": 4,
   "id": "5be36aec",
   "metadata": {},
   "outputs": [
    {
     "name": "stdout",
     "output_type": "stream",
     "text": [
      "The number occurring odd number of times is: 3\n"
     ]
    }
   ],
   "source": [
    "def find_odd_occurrence(arr):\n",
    "    result = 0\n",
    "    for num in arr:\n",
    "        result ^= num\n",
    "    return result\n",
    "\n",
    "# Example usage:\n",
    "numbers = [1, 2, 3, 2, 3, 1, 3]\n",
    "odd_occurrence = find_odd_occurrence(numbers)\n",
    "print(f\"The number occurring odd number of times is: {odd_occurrence}\")"
   ]
  },
  {
   "cell_type": "markdown",
   "id": "b2760552",
   "metadata": {},
   "source": [
    "##### Problem 4 : Given an array of n elements. Find two elements in the array such that their sum is equal to given element K."
   ]
  },
  {
   "cell_type": "code",
   "execution_count": 5,
   "id": "1912dcbe",
   "metadata": {},
   "outputs": [
    {
     "name": "stdout",
     "output_type": "stream",
     "text": [
      "The pair with sum 13 is: (4, 9)\n"
     ]
    }
   ],
   "source": [
    "def find_pair_with_sum(arr, target):\n",
    "    num_set = set()\n",
    "\n",
    "    for num in arr:\n",
    "        complement = target - num\n",
    "        if complement in num_set:\n",
    "            return complement, num\n",
    "        num_set.add(num)\n",
    "\n",
    "    return None  # If no such pair exists\n",
    "\n",
    "# Example usage:\n",
    "elements = [4, 7, 2, 8, 9, 5]\n",
    "target_sum = 13\n",
    "pair = find_pair_with_sum(elements, target_sum)\n",
    "\n",
    "if pair:\n",
    "    print(f\"The pair with sum {target_sum} is: {pair}\")\n",
    "else:\n",
    "    print(\"No such pair exists\")\n"
   ]
  },
  {
   "cell_type": "markdown",
   "id": "aa88b5e2",
   "metadata": {},
   "source": [
    "##### Problem 5 : Given an array of both positive and negative numbers, find two numbers such that their sum is closest to 0. Ex: [ 1 ,60 ,-10, 70, -80,85]. Ans : -80,85."
   ]
  },
  {
   "cell_type": "code",
   "execution_count": 6,
   "id": "ea0e9a98",
   "metadata": {},
   "outputs": [
    {
     "name": "stdout",
     "output_type": "stream",
     "text": [
      "The pair closest to zero is: (-80, 85)\n"
     ]
    }
   ],
   "source": [
    "def closest_to_zero(arr):\n",
    "    arr.sort()\n",
    "    left, right = 0, len(arr) - 1\n",
    "    closest_sum = float('inf')\n",
    "    closest_pair = None\n",
    "\n",
    "    while left < right:\n",
    "        current_sum = arr[left] + arr[right]\n",
    "        if abs(current_sum) < abs(closest_sum):\n",
    "            closest_sum = current_sum\n",
    "            closest_pair = (arr[left], arr[right])\n",
    "\n",
    "        if current_sum < 0:\n",
    "            left += 1\n",
    "        else:\n",
    "            right -= 1\n",
    "\n",
    "    return closest_pair\n",
    "\n",
    "# Example usage:\n",
    "numbers = [1, 60, -10, 70, -80, 85]\n",
    "result = closest_to_zero(numbers)\n",
    "if result:\n",
    "    print(f\"The pair closest to zero is: {result}\")\n",
    "else:\n",
    "    print(\"No such pair exists\")\n"
   ]
  },
  {
   "cell_type": "markdown",
   "id": "b756d831",
   "metadata": {},
   "source": [
    "##### Problem 6 : Given an array of n elements . Find three elements such that their sum is equal to the given number."
   ]
  },
  {
   "cell_type": "code",
   "execution_count": 7,
   "id": "85eb4166",
   "metadata": {},
   "outputs": [
    {
     "name": "stdout",
     "output_type": "stream",
     "text": [
      "The triplet with sum 22 is: (4, 8, 10)\n"
     ]
    }
   ],
   "source": [
    "def find_three_elements(arr, target):\n",
    "    arr.sort()\n",
    "    n = len(arr)\n",
    "\n",
    "    for i in range(n - 2):\n",
    "        left = i + 1\n",
    "        right = n - 1\n",
    "\n",
    "        while left < right:\n",
    "            current_sum = arr[i] + arr[left] + arr[right]\n",
    "\n",
    "            if current_sum == target:\n",
    "                return arr[i], arr[left], arr[right]\n",
    "            elif current_sum < target:\n",
    "                left += 1\n",
    "            else:\n",
    "                right -= 1\n",
    "\n",
    "    return None  # If no such triplet exists\n",
    "\n",
    "# Example usage:\n",
    "elements = [1, 4, 45, 6, 10, 8]\n",
    "target_sum = 22\n",
    "triplet = find_three_elements(elements, target_sum)\n",
    "\n",
    "if triplet:\n",
    "    print(f\"The triplet with sum {target_sum} is: {triplet}\")\n",
    "else:\n",
    "    print(\"No such triplet exists\")\n"
   ]
  },
  {
   "cell_type": "markdown",
   "id": "2e194e88",
   "metadata": {},
   "source": [
    "##### Problem 7 : Given an array of n elements . Find three elements i, j, k in the array such that i * i + j * j = k*k. "
   ]
  },
  {
   "cell_type": "code",
   "execution_count": 8,
   "id": "8b40d235",
   "metadata": {},
   "outputs": [
    {
     "name": "stdout",
     "output_type": "stream",
     "text": [
      "The triplet i, j, k such that i*i + j*j = k*k is: (3, 4, 5)\n"
     ]
    }
   ],
   "source": [
    "def find_triplet_pythagorean(arr):\n",
    "    n = len(arr)\n",
    "    arr = [x * x for x in arr]  # Square all elements\n",
    "\n",
    "    arr.sort()\n",
    "\n",
    "    for i in range(n - 1, 1, -1):\n",
    "        left = 0\n",
    "        right = i - 1\n",
    "\n",
    "        while left < right:\n",
    "            if arr[left] + arr[right] == arr[i]:\n",
    "                return (int(arr[left]**0.5), int(arr[right]**0.5), int(arr[i]**0.5))\n",
    "            elif arr[left] + arr[right] < arr[i]:\n",
    "                left += 1\n",
    "            else:\n",
    "                right -= 1\n",
    "\n",
    "    return None  # If no such triplet exists\n",
    "\n",
    "# Example usage:\n",
    "elements = [3, 1, 4, 6, 5]\n",
    "triplet = find_triplet_pythagorean(elements)\n",
    "\n",
    "if triplet:\n",
    "    print(f\"The triplet i, j, k such that i*i + j*j = k*k is: {triplet}\")\n",
    "else:\n",
    "    print(\"No such triplet exists\")\n"
   ]
  },
  {
   "cell_type": "markdown",
   "id": "1db14972",
   "metadata": {},
   "source": [
    "##### Problem 8 : An element is a majority if it appears more than n/2 times. Give an algorithm takes an array of n element as argument and identifies a majority (if it exists)."
   ]
  },
  {
   "cell_type": "code",
   "execution_count": 9,
   "id": "6f56c136",
   "metadata": {},
   "outputs": [
    {
     "name": "stdout",
     "output_type": "stream",
     "text": [
      "The majority element is: 4\n"
     ]
    }
   ],
   "source": [
    "def find_majority_element(arr):\n",
    "    count = 0\n",
    "    candidate = None\n",
    "\n",
    "    for num in arr:\n",
    "        if count == 0:\n",
    "            candidate = num\n",
    "        count += 1 if num == candidate else -1\n",
    "\n",
    "    # Verify if the candidate is indeed a majority element\n",
    "    count = 0\n",
    "    for num in arr:\n",
    "        if num == candidate:\n",
    "            count += 1\n",
    "\n",
    "    if count > len(arr) // 2:\n",
    "        return candidate\n",
    "    else:\n",
    "        return None  # No majority element\n",
    "\n",
    "# Example usage:\n",
    "elements = [3, 3, 4, 2, 4, 4, 2, 4, 4]\n",
    "majority = find_majority_element(elements)\n",
    "\n",
    "if majority is not None:\n",
    "    print(f\"The majority element is: {majority}\")\n",
    "else:\n",
    "    print(\"No majority element exists\")\n"
   ]
  },
  {
   "cell_type": "markdown",
   "id": "dae26c2b",
   "metadata": {},
   "source": [
    "##### Problem 9 : Given n × n matrix, and in each row all 1’s are followed by 0’s. Find the row with the maximum number of 0’s."
   ]
  },
  {
   "cell_type": "code",
   "execution_count": 10,
   "id": "b8e63748",
   "metadata": {},
   "outputs": [
    {
     "name": "stdout",
     "output_type": "stream",
     "text": [
      "The row with the maximum number of zeros is: 2\n"
     ]
    }
   ],
   "source": [
    "def max_zeros_row(matrix):\n",
    "    n = len(matrix)\n",
    "    max_zeros_row_index = -1  # Initialize the index of the row with the most zeros\n",
    "    max_zeros_count = 0  # Initialize the count of zeros in the row with the most zeros\n",
    "\n",
    "    row = 0\n",
    "    col = n - 1  # Start from the top-right corner\n",
    "\n",
    "    while row < n and col >= 0:\n",
    "        if matrix[row][col] == 0:\n",
    "            max_zeros_row_index = row\n",
    "            max_zeros_count = n - col  # Count of zeros in this row\n",
    "\n",
    "            # Move to the left in the same row to count remaining zeros\n",
    "            col -= 1\n",
    "        else:\n",
    "            # Move to the next row\n",
    "            row += 1\n",
    "\n",
    "    return max_zeros_row_index\n",
    "\n",
    "# Example usage:\n",
    "matrix = [\n",
    "    [1, 1, 1, 0],\n",
    "    [1, 1, 0, 0],\n",
    "    [1, 0, 0, 0],\n",
    "    [1, 1, 1, 0]\n",
    "]\n",
    "\n",
    "result = max_zeros_row(matrix)\n",
    "if result != -1:\n",
    "    print(f\"The row with the maximum number of zeros is: {result}\")\n",
    "else:\n",
    "    print(\"No such row exists\")\n"
   ]
  },
  {
   "cell_type": "markdown",
   "id": "e20b9e17",
   "metadata": {},
   "source": [
    "##### Problem 10 : Sort an array of 0’s, 1’s and 2’s [or R’s, G’s and B’s]: Given an array A[] consisting of 0’s, 1’s and 2’s, give an algorithm for sorting A[].The algorithm should put all 0’s first, then all 1’s and finally all 2’s at the end. Example Input = {0,1,1,0,1,2,1,2,0,0,0,1}, Output = {0,0,0,0,0,1,1,1,1,1,2,2}"
   ]
  },
  {
   "cell_type": "code",
   "execution_count": 11,
   "id": "e90a5c83",
   "metadata": {},
   "outputs": [
    {
     "name": "stdout",
     "output_type": "stream",
     "text": [
      "Sorted array: [0, 0, 0, 0, 0, 1, 1, 1, 1, 1, 2, 2]\n"
     ]
    }
   ],
   "source": [
    "def sort_012(arr):\n",
    "    low = 0\n",
    "    mid = 0\n",
    "    high = len(arr) - 1\n",
    "\n",
    "    while mid <= high:\n",
    "        if arr[mid] == 0:\n",
    "            arr[low], arr[mid] = arr[mid], arr[low]\n",
    "            low += 1\n",
    "            mid += 1\n",
    "        elif arr[mid] == 1:\n",
    "            mid += 1\n",
    "        else:  # arr[mid] == 2\n",
    "            arr[mid], arr[high] = arr[high], arr[mid]\n",
    "            high -= 1\n",
    "\n",
    "# Example usage:\n",
    "arr = [0, 1, 1, 0, 1, 2, 1, 2, 0, 0, 0, 1]\n",
    "sort_012(arr)\n",
    "print(\"Sorted array:\", arr)\n"
   ]
  }
 ],
 "metadata": {
  "kernelspec": {
   "display_name": "Python 3 (ipykernel)",
   "language": "python",
   "name": "python3"
  },
  "language_info": {
   "codemirror_mode": {
    "name": "ipython",
    "version": 3
   },
   "file_extension": ".py",
   "mimetype": "text/x-python",
   "name": "python",
   "nbconvert_exporter": "python",
   "pygments_lexer": "ipython3",
   "version": "3.9.7"
  }
 },
 "nbformat": 4,
 "nbformat_minor": 5
}
