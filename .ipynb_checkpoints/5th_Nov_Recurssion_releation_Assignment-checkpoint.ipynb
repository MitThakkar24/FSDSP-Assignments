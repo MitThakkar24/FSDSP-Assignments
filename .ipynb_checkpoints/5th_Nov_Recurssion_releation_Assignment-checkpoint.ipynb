{
 "cells": [
  {
   "cell_type": "markdown",
   "id": "5a90989a",
   "metadata": {},
   "source": [
    "#  1 Find the value of T(2) for the recurrence relation T(n) = 3T(n-1) + 12n, given that T(0)=5."
   ]
  },
  {
   "cell_type": "raw",
   "id": "f166cdf5",
   "metadata": {},
   "source": [
    "T(0) = 5 is given\n",
    "\n",
    "T(1) = 3T(0) + 12*1 \n",
    "     = 3*5 + 12\n",
    "     = 15 + 12\n",
    "     =27\n",
    "   \n",
    "T(2) = 3T(1) + 12*2 \n",
    "     = 3*27 + 12*2\n",
    "     = 81+24\n",
    "     = 105"
   ]
  },
  {
   "cell_type": "markdown",
   "id": "5610626b",
   "metadata": {},
   "source": [
    "# 2. Given a recurrence relation, solve it using the substitution method:"
   ]
  },
  {
   "cell_type": "markdown",
   "id": "7c461096",
   "metadata": {},
   "source": [
    "#### a. T(n) = T(n-1) + c"
   ]
  },
  {
   "cell_type": "raw",
   "id": "a47b4f1b",
   "metadata": {},
   "source": [
    " T(N) = T(n-1) + c\n",
    "      = (T(n-2)+c) + c \n",
    "      = T(n-2)+2c\n",
    "      = (T(n-3)+c)+2c \n",
    "      = T(n-3) + 3c\n",
    "      ....\n",
    "      =T(n-k)+kc\n",
    "      \n",
    "      \n",
    "for the base case \n",
    "when, k=n\n",
    "T(0) = T(n-n)+nc \n",
    "     = T(0) + nc\n",
    "     \n",
    "     \n",
    "time Complexity = O(n)"
   ]
  },
  {
   "cell_type": "markdown",
   "id": "c8bc9814",
   "metadata": {},
   "source": [
    "#### b. T(n) = 2T(n/2) + n"
   ]
  },
  {
   "cell_type": "raw",
   "id": "f12c0536",
   "metadata": {},
   "source": [
    "T(n) = 2T(n/2) + n ---(1)\n",
    "\n",
    "T(n/2) = 2T(n/4)+n/2 ----(2)\n",
    "\n",
    "T(n/4) = 2T(n/8) + n/4 ---(3)\n",
    "\n",
    "\n",
    "T(n) = 2T(n/2)+n\n",
    "     = 2(2T(n/4)+n/2)+n\n",
    "     = 4T(n/2)+2n\n",
    "     = 8T(n/8)+3n\n",
    "    ....\n",
    "     = 2^kT(n/2^k) + kn\n",
    "        \n",
    "        \n",
    "k = logn, t(1) = 1\n",
    "\n",
    "therefore when n/2^k=1, k=logn and T(1)=1:\n",
    "\n",
    "T(n) = 2^logn*T(1)+nlogn = n + nlogn\n",
    "\n",
    "Time Complexity = o(nlogn)"
   ]
  },
  {
   "cell_type": "markdown",
   "id": "fcb94d46",
   "metadata": {},
   "source": [
    "#### c. T(n) = 2T(n/2) + c"
   ]
  },
  {
   "cell_type": "raw",
   "id": "e796e2d4",
   "metadata": {},
   "source": [
    "T(n) = 2T(n/2)+c\n",
    "     = 2(2T(n/4)+c)+c\n",
    "     = 4T(n/4)+2c\n",
    "     = 4(2T(n/8)+c)+2c\n",
    "     = 8T(n/8)+3c\n",
    "    ........\n",
    "    = 2^kT(n/2^k)+kc\n",
    "    \n",
    "    \n",
    "for k =logn and n/2^k=1,T(0)=1\n",
    "\n",
    "T(n) = 2^logn*T(1)+logn*c = n+clogn"
   ]
  },
  {
   "cell_type": "markdown",
   "id": "c37d1c8c",
   "metadata": {},
   "source": [
    "#### d. T(n) = T(n/2) + c"
   ]
  },
  {
   "cell_type": "raw",
   "id": "c853bf68",
   "metadata": {},
   "source": [
    "T(n) = T(n/2) + c\n",
    "     = T(n/2) + c\n",
    "     = (Y(n/4)+c)+c\n",
    "     = T(n/4) +2c\n",
    "     = (T(n/8)+c)+2c\n",
    "     = T(n/8)+3c\n",
    "    ......\n",
    "     = T(n/2^k)+kc\n",
    "        \n",
    "for n/2^k=1, k = logn and assuming T(1)=1:\n",
    "\n",
    "T(n) = T(1)+clogn = 1 + clogn\n",
    "\n",
    "TimeComplexity = O(logn)"
   ]
  },
  {
   "cell_type": "markdown",
   "id": "53cefb1c",
   "metadata": {},
   "source": [
    "# 3. Given a recurrence relation, solve it using the recursive tree approach:\n",
    "\n"
   ]
  },
  {
   "cell_type": "markdown",
   "id": "9c9fa8f5",
   "metadata": {},
   "source": [
    "#### a. T(n) = 2T(n-1) +1\n"
   ]
  },
  {
   "cell_type": "raw",
   "id": "6f531e26",
   "metadata": {},
   "source": [
    "This recurrence relation represent a linear growth with a recursive callon T(n-1) and an additional constant term"
   ]
  },
  {
   "cell_type": "raw",
   "id": "4e76d51c",
   "metadata": {},
   "source": [
    "            T(n)\n",
    "           /   \\\n",
    "       T(n-1)   1\n",
    "         /  \\\n",
    "     T(n-2)  1\n",
    "      / \\\n",
    "  T(n-3)  1\n",
    "   / \\\n",
    "...   1\n"
   ]
  },
  {
   "cell_type": "code",
   "execution_count": 7,
   "id": "811d2e98",
   "metadata": {},
   "outputs": [
    {
     "ename": "SyntaxError",
     "evalue": "invalid syntax (Temp/ipykernel_8676/3716211293.py, line 1)",
     "output_type": "error",
     "traceback": [
      "\u001b[1;36m  File \u001b[1;32m\"C:\\Users\\Asus\\AppData\\Local\\Temp/ipykernel_8676/3716211293.py\"\u001b[1;36m, line \u001b[1;32m1\u001b[0m\n\u001b[1;33m    Each level of the tree has a cost of 1, and there are n levels.\u001b[0m\n\u001b[1;37m         ^\u001b[0m\n\u001b[1;31mSyntaxError\u001b[0m\u001b[1;31m:\u001b[0m invalid syntax\n"
     ]
    }
   ],
   "source": [
    "Each level of the tree has a cost of 1, and there are n levels.\n",
    "\n",
    "The total cost can be seen as n nodes with a cost of 1 each, leading to a time complexity of \n",
    "\n",
    "O(n)."
   ]
  },
  {
   "cell_type": "markdown",
   "id": "a218989d",
   "metadata": {},
   "source": [
    "#### b. T(n) = 2T(n/2) + n"
   ]
  },
  {
   "cell_type": "raw",
   "id": "73d7d791",
   "metadata": {},
   "source": [
    "This recurrence relation is common in divide-and-conquer algorithms and represents a logarithmic growth.\n",
    "\n",
    "The recursive tree for this relation will have a balanced binary tree structure:"
   ]
  },
  {
   "cell_type": "raw",
   "id": "cefb955c",
   "metadata": {},
   "source": [
    "         T(n)\n",
    "        /    \\\n",
    "   T(n/2)   T(n/2)\n",
    "   /   \\     /   \\\n",
    "T(n/4) ... T(n/4)  n\n"
   ]
  },
  {
   "cell_type": "raw",
   "id": "c00dd92b",
   "metadata": {},
   "source": [
    "t each level of the tree, there are two recursive calls on T(n/2) and a cost of n"
   ]
  },
  {
   "cell_type": "raw",
   "id": "92968383",
   "metadata": {},
   "source": [
    "the tree's depth is logn because each level divides n by 2 and there are logn levels"
   ]
  },
  {
   "cell_type": "raw",
   "id": "c0e543cb",
   "metadata": {},
   "source": [
    "Level 0 : n\n",
    "Level 1 : 2*n/2 = n\n",
    "Level 2 : 4*n/4 = n\n",
    "Level n : (n^logn)*(n/2^logn) = n\n",
    "\n",
    "adding all levels gives O(nlogn) time complexity "
   ]
  }
 ],
 "metadata": {
  "kernelspec": {
   "display_name": "Python 3 (ipykernel)",
   "language": "python",
   "name": "python3"
  },
  "language_info": {
   "codemirror_mode": {
    "name": "ipython",
    "version": 3
   },
   "file_extension": ".py",
   "mimetype": "text/x-python",
   "name": "python",
   "nbconvert_exporter": "python",
   "pygments_lexer": "ipython3",
   "version": "3.9.7"
  }
 },
 "nbformat": 4,
 "nbformat_minor": 5
}
